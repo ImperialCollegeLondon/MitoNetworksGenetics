{
 "cells": [
  {
   "cell_type": "markdown",
   "metadata": {},
   "source": [
    "# Sweep $Q$ and fusion/fission to explore optimal quality control regimes\n",
    "\n",
    "For submission on the Impeial HPC. Fix the magmitude of the fission rate and vary over the fusion rate by orders of magnitude. For each of these, look at different quality control strengths $Q$. \n",
    "\n",
    "Author: Juvid Aryaman\n",
    "\n",
    "Date: 11/10/17"
   ]
  },
  {
   "cell_type": "code",
   "execution_count": 1,
   "metadata": {},
   "outputs": [
    {
     "name": "stdout",
     "output_type": "stream",
     "text": [
      "/home/juvid/Dropbox/Work/Mit_and_Metabolism/Networks_mtDNA_dynamics/Stochastic_sim/Closed_loop_control/Singleton_birth_fus/const_fus/Param_sweeps/QC/sel_deg/Q_fs_sweep\r\n"
     ]
    }
   ],
   "source": [
    "!pwd"
   ]
  },
  {
   "cell_type": "code",
   "execution_count": 2,
   "metadata": {
    "collapsed": true
   },
   "outputs": [],
   "source": [
    "work_dir = '/work/ja1109/networks/sing_birth_fus/param_sweep/QC_fs_sweep/SD'"
   ]
  },
  {
   "cell_type": "code",
   "execution_count": 3,
   "metadata": {},
   "outputs": [],
   "source": [
    "import numpy as np\n",
    "import pandas as pd\n",
    "import sing_birth_fus_utils_ap as utls\n",
    "import pdb\n",
    "\n",
    "%reload_ext autoreload\n",
    "%autoreload 2"
   ]
  },
  {
   "cell_type": "markdown",
   "metadata": {},
   "source": [
    "Paramter ordering convention: h_init_mean, n_target, xi, beta, gamma, kappa, b, mu, delta, Q"
   ]
  },
  {
   "cell_type": "code",
   "execution_count": 4,
   "metadata": {
    "collapsed": true
   },
   "outputs": [],
   "source": [
    "nominal_param = (0.3,\n",
    "1000, \n",
    "0.0,\n",
    "33.120000000000005,\n",
    "0.03785142857142858,\n",
    "11.662903457629223,\n",
    "1.2416523075924095e-05,\n",
    "0.023,\n",
    "1.0,\n",
    "1.0)\n",
    "h_init_mean, n_target, xi, beta, gamma, kappa, b, mu, delta, Q = nominal_param"
   ]
  },
  {
   "cell_type": "code",
   "execution_count": 5,
   "metadata": {},
   "outputs": [
    {
     "data": {
      "text/plain": [
       "array([0, 1, 2])"
      ]
     },
     "execution_count": 5,
     "metadata": {},
     "output_type": "execute_result"
    }
   ],
   "source": [
    "np.hstack(([0],[1,2]))"
   ]
  },
  {
   "cell_type": "code",
   "execution_count": 6,
   "metadata": {},
   "outputs": [
    {
     "data": {
      "text/plain": [
       "array([  1.        ,   1.00001   ,   1.00003162,   1.0001    ,\n",
       "         1.00031623,   1.001     ,   1.00316228,   1.01      ,\n",
       "         1.03162278,   1.1       ,   1.31622777,   2.        ,\n",
       "         4.16227766,  11.        ])"
      ]
     },
     "execution_count": 6,
     "metadata": {},
     "output_type": "execute_result"
    }
   ],
   "source": [
    "epsilon_space = np.linspace(-5,1,13)\n",
    "Q_space = 1.0 + 10**epsilon_space\n",
    "Q_space = np.hstack(([1], Q_space))\n",
    "Q_space"
   ]
  },
  {
   "cell_type": "code",
   "execution_count": 7,
   "metadata": {},
   "outputs": [
    {
     "data": {
      "text/plain": [
       "array([-2. , -1.8, -1.6, -1.4, -1.2, -1. , -0.8, -0.6, -0.4, -0.2,  0. ,\n",
       "        0.2,  0.4,  0.6,  0.8,  1. ,  1.2,  1.4,  1.6,  1.8,  2. ])"
      ]
     },
     "execution_count": 7,
     "metadata": {},
     "output_type": "execute_result"
    }
   ],
   "source": [
    "n_points = 21\n",
    "\n",
    "lg_ls_low_gamma = -2\n",
    "lg_ls_high_gamma = 2\n",
    "\n",
    "gamma_space = 10**np.linspace(lg_ls_low_gamma,lg_ls_high_gamma,n_points) # gamma space\n",
    "\n",
    "np.log10(gamma_space)"
   ]
  },
  {
   "cell_type": "code",
   "execution_count": 8,
   "metadata": {
    "collapsed": true
   },
   "outputs": [],
   "source": [
    "n_iters_per_block = 1000 # multiply by NREPEATS in the .c script for the total number of iterations\n",
    "#n_iters_per_block = 5"
   ]
  },
  {
   "cell_type": "code",
   "execution_count": 9,
   "metadata": {},
   "outputs": [
    {
     "name": "stdout",
     "output_type": "stream",
     "text": [
      "66020\n"
     ]
    }
   ],
   "source": [
    "initial_seed = 66020 #np.round(np.random.uniform()*1e6).astype(int)\n",
    "print(initial_seed)"
   ]
  },
  {
   "cell_type": "markdown",
   "metadata": {},
   "source": [
    "Create first set of parameter sweeps over ($\\beta$,$\\gamma$) at constant ($\\kappa$,$b$)."
   ]
  },
  {
   "cell_type": "code",
   "execution_count": 10,
   "metadata": {
    "collapsed": true
   },
   "outputs": [],
   "source": [
    "time_per_job = '02:00:00' # Based on max churn taking 20s for 10 days. For 500 days, 10 iters and x10 safety"
   ]
  },
  {
   "cell_type": "code",
   "execution_count": 11,
   "metadata": {
    "collapsed": true
   },
   "outputs": [],
   "source": [
    "def make_submission_string(initial_seed, param_block, n_iters_per_block, new_param):\n",
    "    submission_string = './closed_loop_deg_single_SD.ce {0} {1} {2} $PBS_ARRAY_INDEX'.format(initial_seed,\n",
    "                                                                                             param_block,\n",
    "                                                                                             n_iters_per_block)     \n",
    "    for p in new_param:\n",
    "        submission_string+=' {}'.format(p)\n",
    "    \n",
    "    submission_string+='\\n'\n",
    "\n",
    "    return submission_string"
   ]
  },
  {
   "cell_type": "code",
   "execution_count": 12,
   "metadata": {},
   "outputs": [],
   "source": [
    "def make_submission_script(param_block,time_per_job,n_iters_per_block,initial_seed,new_param):\n",
    "    f = open('submission_{}.pbs'.format(param_block),'w')\n",
    "    f.write('#!/bin/sh\\n')\n",
    "    f.write('#PBS -N CLC_Q_fs_SD_{}\\n'.format(param_block))\n",
    "    f.write('#PBS -l walltime={}\\n'.format(time_per_job))\n",
    "    f.write('#PBS -l select=1:ncpus=1:mem=1gb\\n')\n",
    "    f.write('#PBS -J 0-{}\\n'.format(n_iters_per_block - 1))\n",
    "    \n",
    "    f.write('cp $PBS_O_WORKDIR/closed_loop_deg_single_SD.ce $TMPDIR\\n')\n",
    "    \n",
    "    submission_string = make_submission_string(initial_seed, param_block, n_iters_per_block, new_param)\n",
    "      \n",
    "    f.write(submission_string) \n",
    "    f.write('cp output_{0}_$PBS_ARRAY_INDEX.txt $PBS_O_WORKDIR/p{0:03d}\\n'.format(param_block))\n",
    "    \n",
    "    # clean up -- have a file number quota\n",
    "    f.write('sleep 10\\n')\n",
    "    f.write('rm $PBS_O_WORKDIR/CLC_Q_fs_SD_*\\n')\n",
    "    f.close()"
   ]
  },
  {
   "cell_type": "markdown",
   "metadata": {},
   "source": [
    "Define a space over which to search $\\kappa$ so we can find the steady state copy number"
   ]
  },
  {
   "cell_type": "code",
   "execution_count": 13,
   "metadata": {},
   "outputs": [
    {
     "data": {
      "text/plain": [
       "array([-1000.,  -999.,  -998.,  -997.,  -996.])"
      ]
     },
     "execution_count": 13,
     "metadata": {},
     "output_type": "execute_result"
    }
   ],
   "source": [
    "kappa_space = np.linspace(-1000,5000,6001)\n",
    "kappa_space[:5]"
   ]
  },
  {
   "cell_type": "code",
   "execution_count": 14,
   "metadata": {
    "collapsed": true
   },
   "outputs": [],
   "source": [
    "param_cols = ['h_init_mean', 'n_target', 'xi', 'beta', 'gamma', 'kappa', 'b', 'mu', 'delta', 'Q', \n",
    "              'net_rat']"
   ]
  },
  {
   "cell_type": "code",
   "execution_count": 15,
   "metadata": {},
   "outputs": [],
   "source": [
    "param_df = pd.DataFrame(columns=param_cols)"
   ]
  },
  {
   "cell_type": "code",
   "execution_count": 16,
   "metadata": {},
   "outputs": [
    {
     "name": "stdout",
     "output_type": "stream",
     "text": [
      "(0, 0, 0)\n",
      "(1, 0, 1)\n",
      "(2, 0, 2)\n",
      "(3, 0, 3)\n",
      "(4, 0, 4)\n",
      "(5, 0, 5)\n",
      "(6, 0, 6)\n",
      "(7, 0, 7)\n",
      "(8, 0, 8)\n",
      "(9, 0, 9)\n",
      "(10, 0, 10)\n",
      "(11, 0, 11)\n",
      "(12, 0, 12)\n",
      "(13, 0, 13)\n",
      "(14, 1, 0)\n",
      "(15, 1, 1)\n",
      "(16, 1, 2)\n",
      "(17, 1, 3)\n",
      "(18, 1, 4)\n",
      "(19, 1, 5)\n",
      "(20, 1, 6)\n",
      "(21, 1, 7)\n",
      "(22, 1, 8)\n",
      "(23, 1, 9)\n",
      "(24, 1, 10)\n",
      "(25, 1, 11)\n",
      "(26, 1, 12)\n",
      "(27, 1, 13)\n",
      "(28, 2, 0)\n",
      "(29, 2, 1)\n",
      "(30, 2, 2)\n",
      "(31, 2, 3)\n",
      "(32, 2, 4)\n",
      "(33, 2, 5)\n",
      "(34, 2, 6)\n",
      "(35, 2, 7)\n",
      "(36, 2, 8)\n",
      "(37, 2, 9)\n",
      "(38, 2, 10)\n",
      "(39, 2, 11)\n",
      "(40, 2, 12)\n",
      "(41, 2, 13)\n",
      "(42, 3, 0)\n",
      "(43, 3, 1)\n",
      "(44, 3, 2)\n",
      "(45, 3, 3)\n",
      "(46, 3, 4)\n",
      "(47, 3, 5)\n",
      "(48, 3, 6)\n",
      "(49, 3, 7)\n",
      "(50, 3, 8)\n",
      "(51, 3, 9)\n",
      "(52, 3, 10)\n",
      "(53, 3, 11)\n",
      "(54, 3, 12)\n",
      "(55, 3, 13)\n",
      "(56, 4, 0)\n",
      "(57, 4, 1)\n",
      "(58, 4, 2)\n",
      "(59, 4, 3)\n",
      "(60, 4, 4)\n",
      "(61, 4, 5)\n",
      "(62, 4, 6)\n",
      "(63, 4, 7)\n",
      "(64, 4, 8)\n",
      "(65, 4, 9)\n",
      "(66, 4, 10)\n",
      "(67, 4, 11)\n",
      "(68, 4, 12)\n",
      "(69, 4, 13)\n",
      "(70, 5, 0)\n",
      "(71, 5, 1)\n",
      "(72, 5, 2)\n",
      "(73, 5, 3)\n",
      "(74, 5, 4)\n",
      "(75, 5, 5)\n",
      "(76, 5, 6)\n",
      "(77, 5, 7)\n",
      "(78, 5, 8)\n",
      "(79, 5, 9)\n",
      "(80, 5, 10)\n",
      "(81, 5, 11)\n",
      "(82, 5, 12)\n",
      "(83, 5, 13)\n",
      "(84, 6, 0)\n",
      "(85, 6, 1)\n",
      "(86, 6, 2)\n",
      "(87, 6, 3)\n"
     ]
    },
    {
     "name": "stderr",
     "output_type": "stream",
     "text": [
      "sing_birth_fus_utils_ap.py:69: RuntimeWarning: invalid value encountered in sqrt\n",
      "  b**2*(beta**2 - 4*(-1 + delta)*gamma*ms*mu*(-1 + xi) + 2*beta*(gamma*kappa + 3*mu - mu*xi) + (gamma*kappa + mu + mu*xi)**2)))/\\\n",
      "sing_birth_fus_utils_ap.py:73: RuntimeWarning: invalid value encountered in sqrt\n",
      "  b**2*(beta**2 - 4*(-1 + delta)*gamma*ms*mu*(-1 + xi) + 2*beta*(gamma*kappa + 3*mu - mu*xi) + (gamma*kappa + mu + mu*xi)**2))\n",
      "sing_birth_fus_utils_ap.py:88: RuntimeWarning: invalid value encountered in sqrt\n",
      "  b**2*(beta**2 - 4*(-1 + delta)*gamma*ms*mu*(-1 + xi) + 2*beta*(gamma*kappa + 3*mu - mu*xi) + (gamma*kappa + mu + mu*xi)**2))\\\n"
     ]
    },
    {
     "name": "stdout",
     "output_type": "stream",
     "text": [
      "(88, 6, 4)\n",
      "(89, 6, 5)\n",
      "(90, 6, 6)\n",
      "(91, 6, 7)\n",
      "(92, 6, 8)\n",
      "(93, 6, 9)\n",
      "(94, 6, 10)\n",
      "(95, 6, 11)\n",
      "(96, 6, 12)\n",
      "(97, 6, 13)\n",
      "(98, 7, 0)\n",
      "(99, 7, 1)\n",
      "(100, 7, 2)\n",
      "(101, 7, 3)\n",
      "(102, 7, 4)\n",
      "(103, 7, 5)\n",
      "(104, 7, 6)\n",
      "(105, 7, 7)\n",
      "(106, 7, 8)\n",
      "(107, 7, 9)\n",
      "(108, 7, 10)\n",
      "(109, 7, 11)\n",
      "(110, 7, 12)\n",
      "(111, 7, 13)\n",
      "(112, 8, 0)\n",
      "(113, 8, 1)\n",
      "(114, 8, 2)\n",
      "(115, 8, 3)\n",
      "(116, 8, 4)\n",
      "(117, 8, 5)\n",
      "(118, 8, 6)\n",
      "(119, 8, 7)\n",
      "(120, 8, 8)\n",
      "(121, 8, 9)\n",
      "(122, 8, 10)\n",
      "(123, 8, 11)\n",
      "(124, 8, 12)\n",
      "(125, 8, 13)\n",
      "(126, 9, 0)\n",
      "(127, 9, 1)\n",
      "(128, 9, 2)\n",
      "(129, 9, 3)\n",
      "(130, 9, 4)\n",
      "(131, 9, 5)\n",
      "(132, 9, 6)\n",
      "(133, 9, 7)\n",
      "(134, 9, 8)\n",
      "(135, 9, 9)\n",
      "(136, 9, 10)\n",
      "(137, 9, 11)\n",
      "(138, 9, 12)\n",
      "(139, 9, 13)\n",
      "(140, 10, 0)\n",
      "(141, 10, 1)\n",
      "(142, 10, 2)\n",
      "(143, 10, 3)\n",
      "(144, 10, 4)\n",
      "(145, 10, 5)\n",
      "(146, 10, 6)\n",
      "(147, 10, 7)\n",
      "(148, 10, 8)\n",
      "(149, 10, 9)\n",
      "(150, 10, 10)\n",
      "(151, 10, 11)\n",
      "(152, 10, 12)\n",
      "(153, 10, 13)\n",
      "(154, 11, 0)\n",
      "(155, 11, 1)\n",
      "(156, 11, 2)\n",
      "(157, 11, 3)\n",
      "(158, 11, 4)\n",
      "(159, 11, 5)\n",
      "(160, 11, 6)\n",
      "(161, 11, 7)\n",
      "(162, 11, 8)\n",
      "(163, 11, 9)\n",
      "(164, 11, 10)\n",
      "(165, 11, 11)\n",
      "(166, 11, 12)\n",
      "(167, 11, 13)\n",
      "(168, 12, 0)\n",
      "(169, 12, 1)\n",
      "(170, 12, 2)\n",
      "(171, 12, 3)\n",
      "(172, 12, 4)\n",
      "(173, 12, 5)\n",
      "(174, 12, 6)\n",
      "(175, 12, 7)\n",
      "(176, 12, 8)\n",
      "(177, 12, 9)\n",
      "(178, 12, 10)\n",
      "(179, 12, 11)\n",
      "(180, 12, 12)\n",
      "(181, 12, 13)\n",
      "(182, 13, 0)\n",
      "(183, 13, 1)\n",
      "(184, 13, 2)\n",
      "(185, 13, 3)\n",
      "(186, 13, 4)\n",
      "(187, 13, 5)\n",
      "(188, 13, 6)\n",
      "(189, 13, 7)\n",
      "(190, 13, 8)\n",
      "(191, 13, 9)\n",
      "(192, 13, 10)\n",
      "(193, 13, 11)\n",
      "(194, 13, 12)\n",
      "(195, 13, 13)\n",
      "(196, 14, 0)\n",
      "(197, 14, 1)\n",
      "(198, 14, 2)\n",
      "(199, 14, 3)\n",
      "(200, 14, 4)\n",
      "(201, 14, 5)\n",
      "(202, 14, 6)\n",
      "(203, 14, 7)\n",
      "(204, 14, 8)\n",
      "(205, 14, 9)\n",
      "(206, 14, 10)\n",
      "(207, 14, 11)\n",
      "(208, 14, 12)\n",
      "(209, 14, 13)\n",
      "(210, 15, 0)\n",
      "(211, 15, 1)\n",
      "(212, 15, 2)\n",
      "(213, 15, 3)\n",
      "(214, 15, 4)\n",
      "(215, 15, 5)\n",
      "(216, 15, 6)\n",
      "(217, 15, 7)\n",
      "(218, 15, 8)\n",
      "(219, 15, 9)\n",
      "(220, 15, 10)\n",
      "(221, 15, 11)\n",
      "(222, 15, 12)\n",
      "(223, 15, 13)\n",
      "(224, 16, 0)\n",
      "(225, 16, 1)\n",
      "(226, 16, 2)\n",
      "(227, 16, 3)\n",
      "(228, 16, 4)\n",
      "(229, 16, 5)\n",
      "(230, 16, 6)\n",
      "(231, 16, 7)\n",
      "(232, 16, 8)\n",
      "(233, 16, 9)\n",
      "(234, 16, 10)\n",
      "(235, 16, 11)\n",
      "(236, 16, 12)\n",
      "(237, 16, 13)\n",
      "(238, 17, 0)\n",
      "(239, 17, 1)\n",
      "(240, 17, 2)\n",
      "(241, 17, 3)\n",
      "(242, 17, 4)\n",
      "(243, 17, 5)\n",
      "(244, 17, 6)\n",
      "(245, 17, 7)\n",
      "(246, 17, 8)\n",
      "(247, 17, 9)\n",
      "(248, 17, 10)\n",
      "(249, 17, 11)\n",
      "(250, 17, 12)\n",
      "(251, 17, 13)\n",
      "(252, 18, 0)\n",
      "(253, 18, 1)\n",
      "(254, 18, 2)\n",
      "(255, 18, 3)\n",
      "(256, 18, 4)\n",
      "(257, 18, 5)\n",
      "(258, 18, 6)\n",
      "(259, 18, 7)\n",
      "(260, 18, 8)\n",
      "(261, 18, 9)\n",
      "(262, 18, 10)\n",
      "(263, 18, 11)\n",
      "(264, 18, 12)\n",
      "(265, 18, 13)\n",
      "(266, 19, 0)\n",
      "(267, 19, 1)\n",
      "(268, 19, 2)\n",
      "(269, 19, 3)\n",
      "(270, 19, 4)\n",
      "(271, 19, 5)\n",
      "(272, 19, 6)\n",
      "(273, 19, 7)\n",
      "(274, 19, 8)\n",
      "(275, 19, 9)\n",
      "(276, 19, 10)\n",
      "(277, 19, 11)\n",
      "(278, 19, 12)\n",
      "(279, 19, 13)\n",
      "(280, 20, 0)\n",
      "(281, 20, 1)\n",
      "(282, 20, 2)\n",
      "(283, 20, 3)\n",
      "(284, 20, 4)\n",
      "(285, 20, 5)\n",
      "(286, 20, 6)\n",
      "(287, 20, 7)\n",
      "(288, 20, 8)\n",
      "(289, 20, 9)\n",
      "(290, 20, 10)\n",
      "(291, 20, 11)\n",
      "(292, 20, 12)\n",
      "(293, 20, 13)\n"
     ]
    }
   ],
   "source": [
    "master_script = open('master.sh','w')\n",
    "for i, gamma_change in enumerate(gamma_space):\n",
    "    for j, newQ in enumerate(Q_space):\n",
    "        submit_flag = False # assume we should not submit this parametrization   \n",
    "        param_block = len(Q_space)*i+j\n",
    "        \n",
    "        # Update params\n",
    "        newgamma = gamma * gamma_change \n",
    "        \n",
    "        new_param = [k for k in nominal_param]\n",
    "        new_param[4] = newgamma\n",
    "        new_param[-1] = newQ\n",
    "        \n",
    "        # Find kappa for copy number when there is no QC\n",
    "        res = utls.residual_n_manual(n_target, 250, xi, newgamma, beta, kappa_space, b, mu, delta, 1000.0)\n",
    "        if np.min(res) < 0:\n",
    "            index = np.argmin(res)\n",
    "            newkappa = kappa_space[index]\n",
    "            new_param[5] = newkappa\n",
    "            \n",
    "            submit_flag = True\n",
    "            \n",
    "            #             # The proposed value of kappa is ok\n",
    "            #             new_param[5] = newkappa\n",
    "            #             submit_flag = True\n",
    "\n",
    "        else:\n",
    "            print(param_block,i,j,np.min(res), kappa_space[np.argmin(res)],'no kappa')            \n",
    "            \n",
    "        \n",
    "        param_df = param_df.append(pd.DataFrame([np.hstack((new_param,(gamma_change)))],columns=param_cols))\n",
    "        \n",
    "        if submit_flag:\n",
    "            make_submission_script(param_block,time_per_job,n_iters_per_block,initial_seed,new_param)\n",
    "\n",
    "            master_script.write('echo \"{}\"\\n'.format(param_block))\n",
    "            master_script.write('mkdir -p {0}/p{1:03d}\\n'.format(work_dir,param_block))\n",
    "            master_script.write(\"qsub submission_{}.pbs\\n\".format(param_block))\n",
    "            master_script.write('sleep 0.5\\n')\n",
    "            print(param_block,i,j)\n",
    "        else:\n",
    "            s = make_submission_string(initial_seed, param_block, n_iters_per_block, new_param)\n",
    "            print(s)\n",
    "            \n",
    "master_script.close()\n",
    "param_df.reset_index(inplace=True, drop=True)        "
   ]
  },
  {
   "cell_type": "code",
   "execution_count": 17,
   "metadata": {
    "collapsed": true
   },
   "outputs": [],
   "source": [
    "param_df.to_csv('param_sweep_vals_SD.csv',index=False)"
   ]
  }
 ],
 "metadata": {
  "kernelspec": {
   "display_name": "Python 2",
   "language": "python",
   "name": "python2"
  },
  "language_info": {
   "codemirror_mode": {
    "name": "ipython",
    "version": 2
   },
   "file_extension": ".py",
   "mimetype": "text/x-python",
   "name": "python",
   "nbconvert_exporter": "python",
   "pygments_lexer": "ipython2",
   "version": "2.7.14"
  }
 },
 "nbformat": 4,
 "nbformat_minor": 2
}
