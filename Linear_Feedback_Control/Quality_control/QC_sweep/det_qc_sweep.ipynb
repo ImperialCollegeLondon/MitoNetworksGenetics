{
 "cells": [
  {
   "cell_type": "markdown",
   "metadata": {},
   "source": [
    "# QC Sweep\n"
   ]
  },
  {
   "cell_type": "code",
   "execution_count": 1,
   "metadata": {
    "collapsed": true
   },
   "outputs": [],
   "source": [
    "import numpy as np\n",
    "import pdb\n",
    "import matplotlib.pyplot as plt\n",
    "from matplotlib import cm\n",
    "import matplotlib.ticker as ticker"
   ]
  },
  {
   "cell_type": "code",
   "execution_count": 2,
   "metadata": {
    "collapsed": true
   },
   "outputs": [],
   "source": [
    "import warnings\n",
    "warnings.simplefilter(\"ignore\",UserWarning)"
   ]
  },
  {
   "cell_type": "code",
   "execution_count": 3,
   "metadata": {
    "collapsed": true
   },
   "outputs": [],
   "source": [
    "import mitonetworks.det as mtd\n",
    "import mitonetworks.stoch as mts"
   ]
  },
  {
   "cell_type": "code",
   "execution_count": 4,
   "metadata": {
    "collapsed": true
   },
   "outputs": [],
   "source": [
    "mts.reset_plots()"
   ]
  },
  {
   "cell_type": "code",
   "execution_count": 5,
   "metadata": {
    "collapsed": true
   },
   "outputs": [],
   "source": [
    "%matplotlib inline\n",
    "%reload_ext autoreload\n",
    "%autoreload 2\n",
    "mtd.reset_plots()"
   ]
  },
  {
   "cell_type": "markdown",
   "metadata": {},
   "source": [
    "## Parameter definition"
   ]
  },
  {
   "cell_type": "code",
   "execution_count": 6,
   "metadata": {
    "collapsed": true
   },
   "outputs": [],
   "source": [
    "params = {\n",
    "    'beta':33.12, \n",
    "    'gamma':0.03785142857142858,\n",
    "    'b':1.2416523075924095e-05, \n",
    "    'kappa':11.662903457629223,\n",
    "    'mu':0.023, \n",
    "    'xi':0.0, \n",
    "    'delta':1.0\n",
    "}\n",
    "\n",
    "gamma_nom = params['gamma']"
   ]
  },
  {
   "cell_type": "code",
   "execution_count": 7,
   "metadata": {
    "collapsed": true
   },
   "outputs": [],
   "source": [
    "epsilon_space = np.linspace(-5,-0.5,10)\n",
    "Q_space = 1.0 + 10**epsilon_space\n",
    "Q_space = 1./np.hstack(([1], Q_space)) # NB: det code uses opposite convention to avoid performing division"
   ]
  },
  {
   "cell_type": "code",
   "execution_count": 8,
   "metadata": {
    "collapsed": true
   },
   "outputs": [],
   "source": [
    "n_points = 21\n",
    "lg_ls_low_gamma = -2\n",
    "lg_ls_high_gamma = 2\n",
    "gamma_space = 10**np.linspace(lg_ls_low_gamma,lg_ls_high_gamma,n_points) # gamma space\n",
    "gamma_labels = np.log10(gamma_space)"
   ]
  },
  {
   "cell_type": "code",
   "execution_count": 9,
   "metadata": {
    "collapsed": true
   },
   "outputs": [],
   "source": [
    "deltah_arr = np.zeros((len(gamma_space),len(Q_space)))"
   ]
  },
  {
   "cell_type": "code",
   "execution_count": 10,
   "metadata": {
    "collapsed": true
   },
   "outputs": [],
   "source": [
    "make_data = False"
   ]
  },
  {
   "cell_type": "code",
   "execution_count": 11,
   "metadata": {
    "collapsed": true
   },
   "outputs": [],
   "source": [
    "T_measure = 1000.0"
   ]
  },
  {
   "cell_type": "code",
   "execution_count": 12,
   "metadata": {
    "collapsed": true
   },
   "outputs": [],
   "source": [
    "def get_delta_h(params):\n",
    "    # Get ICs\n",
    "    lc = mts.SubmitHPCSoluableFeedbackControl(ss_definition=mtd.E_linear_feedback_control_ss,nominal_params=params,\n",
    "                                         hpc_workdir=None,c_filename=None,c_file_param_ordering_convention=None,hpc_jobname=None)\n",
    "    ics, h, e = lc.find_ss_h_target(lc.nominal_params)\n",
    "    if h is not np.nan:\n",
    "        # Simulate ODEs\n",
    "        lc = mtd.FeedbackControl(network_defn=mtd.E_linear_feedback_control, params=params, initial_state=ics, TMAX = T_measure)   \n",
    "        initial_h = (ics[2]+ics[3])/float(np.sum(ics))\n",
    "        lc.make_trajectory()\n",
    "        final_state = lc.state\n",
    "        final_h = (final_state[2]+final_state[3])/float(np.sum(final_state))\n",
    "        delta_h = final_h - initial_h\n",
    "        return delta_h\n",
    "    else:\n",
    "        raise Exception('Error')"
   ]
  },
  {
   "cell_type": "code",
   "execution_count": 13,
   "metadata": {
    "collapsed": true
   },
   "outputs": [],
   "source": [
    "if make_data:\n",
    "    for i, gamma_change in enumerate(gamma_space):\n",
    "        print(i)\n",
    "        for j, newQ in enumerate(Q_space):\n",
    "            # Update params\n",
    "            newgamma = gamma_nom * gamma_change \n",
    "            params['gamma'] = newgamma\n",
    "            params['Q_f'] = newQ                \n",
    "            deltah_arr[i,j] = get_delta_h(params)            \n",
    "        np.save('deltah_arr',deltah_arr)        "
   ]
  },
  {
   "cell_type": "code",
   "execution_count": 14,
   "metadata": {
    "collapsed": true
   },
   "outputs": [],
   "source": [
    "deltah_arr = np.load('deltah_arr.npy')"
   ]
  },
  {
   "cell_type": "code",
   "execution_count": 15,
   "metadata": {
    "collapsed": true
   },
   "outputs": [],
   "source": [
    "deltah_arr[deltah_arr==0] = np.nan"
   ]
  },
  {
   "cell_type": "code",
   "execution_count": 16,
   "metadata": {
    "collapsed": true
   },
   "outputs": [],
   "source": [
    "from pdb import set_trace"
   ]
  },
  {
   "cell_type": "code",
   "execution_count": 17,
   "metadata": {
    "collapsed": true
   },
   "outputs": [],
   "source": [
    "def cast_as_1sf_str(X):\n",
    "    return [\"%.1f\" % x for x in X]\n",
    "def fmt(x, pos):\n",
    "    a, b = '{:.0e}'.format(x).split('e')\n",
    "    b = int(b)\n",
    "    return r'${} \\times 10^{{{}}}$'.format(a, b)"
   ]
  },
  {
   "cell_type": "code",
   "execution_count": 18,
   "metadata": {
    "collapsed": true
   },
   "outputs": [],
   "source": [
    "eps_labels = [r'$\\epsilon_f=0$'] + [str(x) for x in epsilon_space]"
   ]
  },
  {
   "cell_type": "code",
   "execution_count": 19,
   "metadata": {
    "collapsed": true
   },
   "outputs": [],
   "source": [
    "cmap = cm.coolwarm\n",
    "cmap.set_bad(color='0.75')"
   ]
  },
  {
   "cell_type": "code",
   "execution_count": 20,
   "metadata": {},
   "outputs": [
    {
     "name": "stderr",
     "output_type": "stream",
     "text": [
      "/home/juvid/anaconda2/lib/python2.7/site-packages/ipykernel_launcher.py:2: RuntimeWarning: invalid value encountered in log10\n",
      "  \n"
     ]
    },
    {
     "data": {
      "image/png": "[encoded data removed]",
      "text/plain": [
       "<matplotlib.figure.Figure at 0x7fdaefc11a50>"
      ]
     },
     "metadata": {},
     "output_type": "display_data"
    }
   ],
   "source": [
    "fig, ax = plt.subplots(1,1, figsize = (9,7.5))\n",
    "im00 = ax.imshow(np.flipud(np.log10(-deltah_arr[:,1:])),cmap = cmap, interpolation='none')\n",
    "plt.colorbar(im00, ax=ax, fraction=0.046,pad=0.04,\n",
    "             label=\"$\\log_{{10}}(-\\Delta h)$ at $t={:d}$\".format(int(T_measure)),format='%1.0f')\n",
    "ax.set_xlabel(r'Log10 fusion selectivity, $\\log_{10}(\\epsilon_f)$')\n",
    "ax.set_ylabel(r'Log10 relative fusion rate')\n",
    "ax.set_xticks(range(len(Q_space[1:])));\n",
    "ax.set_yticks(range(len(gamma_space)));\n",
    "ax.set_xticklabels(eps_labels[1:], rotation = 90);\n",
    "ax.set_yticklabels(cast_as_1sf_str(gamma_labels[::-1]));\n",
    "plt.tight_layout()\n",
    "plt.savefig('dh_sel_fus.svg')"
   ]
  },
  {
   "cell_type": "code",
   "execution_count": 21,
   "metadata": {},
   "outputs": [
    {
     "data": {
      "image/png": "[encoded data removed]",
      "text/plain": [
       "<matplotlib.figure.Figure at 0x7fdaefc118d0>"
      ]
     },
     "metadata": {},
     "output_type": "display_data"
    }
   ],
   "source": [
    "fig, ax = plt.subplots(1,1, figsize = (9,7.5))\n",
    "im00 = ax.imshow(np.flipud(deltah_arr),cmap = cm.coolwarm, interpolation='none')\n",
    "plt.colorbar(im00, ax=ax, fraction=0.046,pad=0.04,label=\"$\\Delta h|t={:d}$\".format(int(T_measure)),format=ticker.FuncFormatter(fmt))\n",
    "ax.set_xlabel(r'Log10 fusion selectivity, $\\log_{10}(\\epsilon_f)$')\n",
    "ax.set_ylabel(r'Log10 relative fusion rate')\n",
    "ax.set_xticks(range(len(Q_space)));\n",
    "ax.set_yticks(range(len(gamma_space)));\n",
    "ax.set_xticklabels(eps_labels, rotation = 90);\n",
    "ax.set_yticklabels(cast_as_1sf_str(gamma_labels[::-1]));\n",
    "plt.tight_layout()"
   ]
  },
  {
   "cell_type": "code",
   "execution_count": null,
   "metadata": {
    "collapsed": true
   },
   "outputs": [],
   "source": []
  }
 ],
 "metadata": {
  "kernelspec": {
   "display_name": "Python 2",
   "language": "python",
   "name": "python2"
  },
  "language_info": {
   "codemirror_mode": {
    "name": "ipython",
    "version": 2
   },
   "file_extension": ".py",
   "mimetype": "text/x-python",
   "name": "python",
   "nbconvert_exporter": "python",
   "pygments_lexer": "ipython2",
   "version": "2.7.14"
  }
 },
 "nbformat": 4,
 "nbformat_minor": 2
}
