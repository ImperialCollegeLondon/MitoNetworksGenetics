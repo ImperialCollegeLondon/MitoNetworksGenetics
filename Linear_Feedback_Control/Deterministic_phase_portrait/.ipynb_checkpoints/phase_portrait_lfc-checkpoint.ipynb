{
 "cells": [
  {
   "cell_type": "markdown",
   "metadata": {},
   "source": [
    "# Deterministic phase portrait of network system for a linear feedback control\n",
    "\n",
    "Uses the nominal parameterisation of the following state-dependent replication rate\n",
    "\n",
    "$\\lambda(w,m) = \\mu + b (\\kappa - w - \\delta m)$\n"
   ]
  },
  {
   "cell_type": "code",
   "execution_count": 1,
   "metadata": {},
   "outputs": [],
   "source": [
    "import numpy as np\n",
    "import pdb"
   ]
  },
  {
   "cell_type": "code",
   "execution_count": 2,
   "metadata": {},
   "outputs": [],
   "source": [
    "import mitonetworks.det as mt"
   ]
  },
  {
   "cell_type": "code",
   "execution_count": 3,
   "metadata": {},
   "outputs": [],
   "source": [
    "make_trajectories = True"
   ]
  },
  {
   "cell_type": "code",
   "execution_count": 4,
   "metadata": {},
   "outputs": [],
   "source": [
    "%matplotlib inline\n",
    "%reload_ext autoreload\n",
    "%autoreload 2\n",
    "mt.reset_plots()"
   ]
  },
  {
   "cell_type": "markdown",
   "metadata": {},
   "source": [
    "## Parameter definition"
   ]
  },
  {
   "cell_type": "code",
   "execution_count": 5,
   "metadata": {},
   "outputs": [],
   "source": [
    "params = {\n",
    "    'beta':33.12, \n",
    "    'gamma':0.03785142857142858,\n",
    "    'b':1.2416523075924095e-05, \n",
    "    'kappa':11.662903457629223,\n",
    "    'mu':0.023, \n",
    "    'xi':0.0, \n",
    "    'delta':1.0\n",
    "}\n"
   ]
  },
  {
   "cell_type": "markdown",
   "metadata": {},
   "source": [
    "## Make trajectories"
   ]
  },
  {
   "cell_type": "code",
   "execution_count": 6,
   "metadata": {},
   "outputs": [],
   "source": [
    "lc = mt.SoluableFeedbackControl(network_defn=mt.E_linear_feedback_control, ss_indep_variable='ms', params=params, \n",
    "                                 ss_definition=mt.E_linear_feedback_control_ss, \n",
    "                                 TMAX = 2000.0, species_lim = 500, n_traj = 20,\n",
    "                               phys_ss_is_point = True)"
   ]
  },
  {
   "cell_type": "code",
   "execution_count": 8,
   "metadata": {},
   "outputs": [
    {
     "data": {
      "text/plain": [
       "['ws', 'wf', 'ms', 'mf']"
      ]
     },
     "execution_count": 8,
     "metadata": {},
     "output_type": "execute_result"
    }
   ],
   "source": [
    "lc.param_convention"
   ]
  },
  {
   "cell_type": "code",
   "execution_count": 9,
   "metadata": {},
   "outputs": [],
   "source": [
    "np.random.seed(1)"
   ]
  },
  {
   "cell_type": "code",
   "execution_count": null,
   "metadata": {},
   "outputs": [
    {
     "name": "stdout",
     "output_type": "stream",
     "text": [
      "0\n",
      "1\n",
      "2\n"
     ]
    }
   ],
   "source": [
    "if make_trajectories:\n",
    "    lc.make_random_trajectories()\n",
    "    np.save('state_all', lc.state_trajectory_set)\n",
    "else:\n",
    "    lc.state_trajectory_set = np.load('state_all.npy')\n"
   ]
  },
  {
   "cell_type": "code",
   "execution_count": null,
   "metadata": {},
   "outputs": [],
   "source": [
    "if lc.state_trajectory_set.shape[-1]!=lc.n_traj:\n",
    "    raise Exception('Dimension mismatch, remake trajectories!')"
   ]
  },
  {
   "cell_type": "code",
   "execution_count": null,
   "metadata": {},
   "outputs": [],
   "source": [
    "lc.make_trajetory_plot()"
   ]
  },
  {
   "cell_type": "code",
   "execution_count": 14,
   "metadata": {},
   "outputs": [
    {
     "data": {
      "image/png": "[encoded data removed]",
      "text/plain": [
       "<matplotlib.figure.Figure at 0x7f7c4e3d1810>"
      ]
     },
     "metadata": {},
     "output_type": "display_data"
    }
   ],
   "source": [
    "lc.check_h_cons(let_h_small=True, plotname='h_cons')"
   ]
  },
  {
   "cell_type": "markdown",
   "metadata": {},
   "source": [
    "Is this machine error or not?"
   ]
  },
  {
   "cell_type": "markdown",
   "metadata": {},
   "source": [
    "## Jacobian matrix"
   ]
  },
  {
   "cell_type": "code",
   "execution_count": 15,
   "metadata": {},
   "outputs": [
    {
     "data": {
      "text/plain": [
       "(array([ -6.69996917e-03,  -2.62680502e-15,  -7.10004546e+01,\n",
       "         -7.09947380e+01]),\n",
       " array([[-0.25890909,  0.465396  , -0.6822732 , -0.50008099],\n",
       "        [-0.929332  ,  0.53235943,  0.68205217,  0.499919  ],\n",
       "        [-0.07065394, -0.465396  , -0.18618616,  0.50008099],\n",
       "        [-0.25360627, -0.53235943,  0.18612585, -0.499919  ]]))"
      ]
     },
     "execution_count": 15,
     "metadata": {},
     "output_type": "execute_result"
    }
   ],
   "source": [
    "s = mt.E_linear_feedback_control_ss(100,params) # state\n",
    "J = mt.E_linear_feedback_control_jac(s,params)\n",
    "np.linalg.eig(J)"
   ]
  },
  {
   "cell_type": "code",
   "execution_count": 16,
   "metadata": {},
   "outputs": [
    {
     "data": {
      "text/plain": [
       "(array([ -7.10004546e+01,  -7.09947380e+01,  -6.69996917e-03,\n",
       "         -7.55004950e-15]),\n",
       " array([[-0.56560897, -0.50008099, -0.21463734,  0.465396  ],\n",
       "        [ 0.56542574,  0.499919  , -0.77042235,  0.53235943],\n",
       "        [-0.42455682,  0.50008099, -0.16111086, -0.465396  ],\n",
       "        [ 0.42441928, -0.499919  , -0.57829362, -0.53235943]]))"
      ]
     },
     "execution_count": 16,
     "metadata": {},
     "output_type": "execute_result"
    }
   ],
   "source": [
    "s = mt.E_linear_feedback_control_ss(200,params) # state\n",
    "J = mt.E_linear_feedback_control_jac(s,params)\n",
    "np.linalg.eig(J)"
   ]
  }
 ],
 "metadata": {
  "kernelspec": {
   "display_name": "Python 2",
   "language": "python",
   "name": "python2"
  },
  "language_info": {
   "codemirror_mode": {
    "name": "ipython",
    "version": 2
   },
   "file_extension": ".py",
   "mimetype": "text/x-python",
   "name": "python",
   "nbconvert_exporter": "python",
   "pygments_lexer": "ipython2",
   "version": "2.7.14"
  }
 },
 "nbformat": 4,
 "nbformat_minor": 2
}
