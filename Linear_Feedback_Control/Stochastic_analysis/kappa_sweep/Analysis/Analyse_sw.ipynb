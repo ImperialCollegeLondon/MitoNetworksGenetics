{
 "cells": [
  {
   "cell_type": "markdown",
   "metadata": {},
   "source": [
    "# Analyse stochastic simulations of parameter sweep ($\\kappa$)\n",
    "\n",
    "Author: Juvid Aryaman"
   ]
  },
  {
   "cell_type": "code",
   "execution_count": 1,
   "metadata": {},
   "outputs": [],
   "source": [
    "import mitonetworks.det as mtd\n",
    "import mitonetworks.stoch as mts\n",
    "import pandas as pd\n",
    "import numpy as np\n",
    "import matplotlib.pyplot as plt\n",
    "\n",
    "import warnings"
   ]
  },
  {
   "cell_type": "code",
   "execution_count": 2,
   "metadata": {},
   "outputs": [],
   "source": [
    "warnings.simplefilter(\"ignore\", UserWarning) # when generating svg's get lots of useless UserWarnings, so suppress them"
   ]
  },
  {
   "cell_type": "code",
   "execution_count": 3,
   "metadata": {},
   "outputs": [],
   "source": [
    "%reload_ext autoreload\n",
    "%autoreload 2\n",
    "%matplotlib inline"
   ]
  },
  {
   "cell_type": "code",
   "execution_count": 4,
   "metadata": {},
   "outputs": [],
   "source": [
    "mts.reset_plots()"
   ]
  },
  {
   "cell_type": "code",
   "execution_count": 11,
   "metadata": {
    "scrolled": false
   },
   "outputs": [],
   "source": [
    "analysis = mts.AnalyseDataFeedbackControl(dir_df_params = '../param_sweep_vals.csv',ctrl_name='lfc',\n",
    "        dir_data = '../Data/',plotextensions=['svg']\n",
    ")\n",
    "    \n",
    "analysis.make_gradients()\n",
    "analysis.compute_errors()"
   ]
  },
  {
   "cell_type": "code",
   "execution_count": 12,
   "metadata": {},
   "outputs": [
    {
     "data": {
      "text/html": [
       "<div>\n",
       "<style scoped>\n",
       "    .dataframe tbody tr th:only-of-type {\n",
       "        vertical-align: middle;\n",
       "    }\n",
       "\n",
       "    .dataframe tbody tr th {\n",
       "        vertical-align: top;\n",
       "    }\n",
       "\n",
       "    .dataframe thead th {\n",
       "        text-align: right;\n",
       "    }\n",
       "</style>\n",
       "<table border=\"1\" class=\"dataframe\">\n",
       "  <thead>\n",
       "    <tr style=\"text-align: right;\">\n",
       "      <th></th>\n",
       "      <th>b</th>\n",
       "      <th>beta</th>\n",
       "      <th>delta</th>\n",
       "      <th>gamma</th>\n",
       "      <th>kappa</th>\n",
       "      <th>mf_init</th>\n",
       "      <th>ms_init</th>\n",
       "      <th>mu</th>\n",
       "      <th>wf_init</th>\n",
       "      <th>ws_init</th>\n",
       "      <th>xi</th>\n",
       "    </tr>\n",
       "  </thead>\n",
       "  <tbody>\n",
       "    <tr>\n",
       "      <th>0</th>\n",
       "      <td>0.000012</td>\n",
       "      <td>33.12</td>\n",
       "      <td>1.0</td>\n",
       "      <td>0.037851</td>\n",
       "      <td>0.000000</td>\n",
       "      <td>154</td>\n",
       "      <td>138</td>\n",
       "      <td>0.023</td>\n",
       "      <td>362</td>\n",
       "      <td>324</td>\n",
       "      <td>0.0</td>\n",
       "    </tr>\n",
       "    <tr>\n",
       "      <th>1</th>\n",
       "      <td>0.000012</td>\n",
       "      <td>33.12</td>\n",
       "      <td>1.0</td>\n",
       "      <td>0.037851</td>\n",
       "      <td>583.145173</td>\n",
       "      <td>374</td>\n",
       "      <td>178</td>\n",
       "      <td>0.023</td>\n",
       "      <td>872</td>\n",
       "      <td>415</td>\n",
       "      <td>0.0</td>\n",
       "    </tr>\n",
       "    <tr>\n",
       "      <th>2</th>\n",
       "      <td>0.000012</td>\n",
       "      <td>33.12</td>\n",
       "      <td>1.0</td>\n",
       "      <td>0.037851</td>\n",
       "      <td>1166.290346</td>\n",
       "      <td>567</td>\n",
       "      <td>195</td>\n",
       "      <td>0.023</td>\n",
       "      <td>1327</td>\n",
       "      <td>456</td>\n",
       "      <td>0.0</td>\n",
       "    </tr>\n",
       "    <tr>\n",
       "      <th>3</th>\n",
       "      <td>0.000012</td>\n",
       "      <td>33.12</td>\n",
       "      <td>1.0</td>\n",
       "      <td>0.037851</td>\n",
       "      <td>2332.580692</td>\n",
       "      <td>940</td>\n",
       "      <td>214</td>\n",
       "      <td>0.023</td>\n",
       "      <td>2189</td>\n",
       "      <td>499</td>\n",
       "      <td>0.0</td>\n",
       "    </tr>\n",
       "    <tr>\n",
       "      <th>4</th>\n",
       "      <td>0.000012</td>\n",
       "      <td>33.12</td>\n",
       "      <td>1.0</td>\n",
       "      <td>0.037851</td>\n",
       "      <td>3498.871037</td>\n",
       "      <td>1300</td>\n",
       "      <td>224</td>\n",
       "      <td>0.023</td>\n",
       "      <td>3032</td>\n",
       "      <td>522</td>\n",
       "      <td>0.0</td>\n",
       "    </tr>\n",
       "  </tbody>\n",
       "</table>\n",
       "</div>"
      ],
      "text/plain": [
       "          b   beta  delta     gamma        kappa  mf_init  ms_init     mu  \\\n",
       "0  0.000012  33.12    1.0  0.037851     0.000000      154      138  0.023   \n",
       "1  0.000012  33.12    1.0  0.037851   583.145173      374      178  0.023   \n",
       "2  0.000012  33.12    1.0  0.037851  1166.290346      567      195  0.023   \n",
       "3  0.000012  33.12    1.0  0.037851  2332.580692      940      214  0.023   \n",
       "4  0.000012  33.12    1.0  0.037851  3498.871037     1300      224  0.023   \n",
       "\n",
       "   wf_init  ws_init   xi  \n",
       "0      362      324  0.0  \n",
       "1      872      415  0.0  \n",
       "2     1327      456  0.0  \n",
       "3     2189      499  0.0  \n",
       "4     3032      522  0.0  "
      ]
     },
     "execution_count": 12,
     "metadata": {},
     "output_type": "execute_result"
    }
   ],
   "source": [
    "analysis.df_params"
   ]
  },
  {
   "cell_type": "code",
   "execution_count": 13,
   "metadata": {},
   "outputs": [],
   "source": [
    "kappa_nom = 11.662903457629223\n",
    "R_k = analysis.df_params['kappa']/kappa_nom\n",
    "n_k = len(R_k)"
   ]
  },
  {
   "cell_type": "code",
   "execution_count": 14,
   "metadata": {},
   "outputs": [
    {
     "data": {
      "image/png": "[encoded data removed]",
      "text/plain": [
       "<Figure size 360x360 with 1 Axes>"
      ]
     },
     "metadata": {},
     "output_type": "display_data"
    }
   ],
   "source": [
    "leg_list = [r\"$\\kappa=$ {:.0f}\".format(R_k[i]) for i in range(n_k)]\n",
    "analysis.plot_vh_param_sw(range(n_k), leg_list,figname=\"kappa_sw_lfc\",sparsify_data=True, y_dp = 4)"
   ]
  }
 ],
 "metadata": {
  "kernelspec": {
   "display_name": "Python 2",
   "language": "python",
   "name": "python2"
  },
  "language_info": {
   "codemirror_mode": {
    "name": "ipython",
    "version": 2
   },
   "file_extension": ".py",
   "mimetype": "text/x-python",
   "name": "python",
   "nbconvert_exporter": "python",
   "pygments_lexer": "ipython2",
   "version": "2.7.14"
  },
  "widgets": {
   "state": {
    "ce9ab77916ab485ebe64c6617c775f3f": {
     "views": [
      {
       "cell_index": 8
      }
     ]
    }
   },
   "version": "1.2.0"
  }
 },
 "nbformat": 4,
 "nbformat_minor": 2
}
