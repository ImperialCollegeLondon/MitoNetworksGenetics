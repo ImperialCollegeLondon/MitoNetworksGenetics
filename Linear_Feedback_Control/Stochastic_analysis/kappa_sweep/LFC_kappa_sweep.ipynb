{
 "cells": [
  {
   "cell_type": "markdown",
   "metadata": {},
   "source": [
    "# Make parameter submission scripts for HPC \n",
    "\n",
    "## Carrying capacity sweep\n",
    "\n",
    "Author: Juvid Aryaman"
   ]
  },
  {
   "cell_type": "code",
   "execution_count": 1,
   "metadata": {},
   "outputs": [],
   "source": [
    "import numpy as np\n",
    "import pandas as pd\n",
    "import mitonetworks.det as mtd\n",
    "import mitonetworks.stoch as mts"
   ]
  },
  {
   "cell_type": "code",
   "execution_count": 2,
   "metadata": {},
   "outputs": [],
   "source": [
    "nominal_params = {\n",
    "    'gamma':0.03785142857142858,\n",
    "\t'beta':33.12,\n",
    "\t'kappa':11.662903457629223,\n",
    "\t'b':1.2416523075924095e-05,\n",
    "\t'mu':0.023,\n",
    "\t'xi':0.0,\n",
    "\t'delta':1.0\n",
    "}"
   ]
  },
  {
   "cell_type": "code",
   "execution_count": 3,
   "metadata": {},
   "outputs": [],
   "source": [
    "c_file_param_ordering_convention = ['xi','beta','gamma','kappa','b','mu','delta']"
   ]
  },
  {
   "cell_type": "code",
   "execution_count": 4,
   "metadata": {},
   "outputs": [],
   "source": [
    "hpc_workdir = '$WORK/networks/sing_birth_fus/kappa_sw'"
   ]
  },
  {
   "cell_type": "code",
   "execution_count": 5,
   "metadata": {},
   "outputs": [],
   "source": [
    "c_filename = 'closed_loop_deg_single'"
   ]
  },
  {
   "cell_type": "code",
   "execution_count": 6,
   "metadata": {},
   "outputs": [],
   "source": [
    "hpc_jobname = 'kappa_sw'"
   ]
  },
  {
   "cell_type": "code",
   "execution_count": 7,
   "metadata": {},
   "outputs": [],
   "source": [
    "ks = mts.SubmitHPCSoluableFeedbackControl(ss_definition=mtd.E_linear_feedback_control_ss,\n",
    "                                 nominal_params=nominal_params,hpc_workdir=hpc_workdir,\n",
    "                                c_filename=c_filename, c_file_param_ordering_convention=c_file_param_ordering_convention,\n",
    "                                hpc_jobname=hpc_jobname)"
   ]
  },
  {
   "cell_type": "code",
   "execution_count": 8,
   "metadata": {},
   "outputs": [
    {
     "data": {
      "text/plain": [
       "['ws', 'wf', 'ms', 'mf']"
      ]
     },
     "execution_count": 8,
     "metadata": {},
     "output_type": "execute_result"
    }
   ],
   "source": [
    "ks.param_convention"
   ]
  },
  {
   "cell_type": "code",
   "execution_count": 9,
   "metadata": {},
   "outputs": [],
   "source": [
    "kappa_rel_sp = [0,50,100,200,300]\n",
    "params = nominal_params.copy()\n",
    "\n",
    "master_script = open(ks.out_dir+\"/master.sh\",\"w\")\n",
    "# Add the .c compilation line to the master script\n",
    "master_script.write('gcc -o3 {0}.c -lm -o {0}.ce\\n'.format(ks.c_filename))\n",
    "\n",
    "# Output dataframe with parametriations\n",
    "param_df =  []\n",
    "\n",
    "for i, kappa_r in enumerate(kappa_rel_sp):\n",
    "    params['kappa'] = kappa_r*nominal_params['kappa']\n",
    "    ics, h_opt, err = ks.find_ss_h_target(params)\n",
    "    \n",
    "    param_dict = params.copy()\n",
    "    for k, param in enumerate(ks.param_convention): param_dict[param+'_init'] = ics[k]\n",
    "    param_df.append(pd.DataFrame(param_dict, index=[0]))\n",
    "\n",
    "    if err == 1:\n",
    "        ks.make_submission_script(i,ics,params)\n",
    "        # Add the submission to a master script\n",
    "        master_script.write('echo \"{}\"\\n'.format(i))\n",
    "        master_script.write('mkdir -p {0}/p{1}\\n'.format(ks.hpc_workdir,i))\n",
    "        master_script.write(\"qsub submission_{}.pbs\\n\".format(i))\n",
    "        master_script.write('sleep 0.5\\n')\n",
    "    else:\n",
    "        raise Exception('SS not found!')\n",
    "master_script.close()\n",
    "param_df = pd.concat(param_df, ignore_index=True)\n",
    "param_df.to_csv(ks.out_dir+'/param_sweep_vals.csv',index=False)    "
   ]
  },
  {
   "cell_type": "code",
   "execution_count": 10,
   "metadata": {},
   "outputs": [
    {
     "data": {
      "text/html": [
       "<div>\n",
       "<style scoped>\n",
       "    .dataframe tbody tr th:only-of-type {\n",
       "        vertical-align: middle;\n",
       "    }\n",
       "\n",
       "    .dataframe tbody tr th {\n",
       "        vertical-align: top;\n",
       "    }\n",
       "\n",
       "    .dataframe thead th {\n",
       "        text-align: right;\n",
       "    }\n",
       "</style>\n",
       "<table border=\"1\" class=\"dataframe\">\n",
       "  <thead>\n",
       "    <tr style=\"text-align: right;\">\n",
       "      <th></th>\n",
       "      <th>b</th>\n",
       "      <th>beta</th>\n",
       "      <th>delta</th>\n",
       "      <th>gamma</th>\n",
       "      <th>kappa</th>\n",
       "      <th>mf_init</th>\n",
       "      <th>ms_init</th>\n",
       "      <th>mu</th>\n",
       "      <th>wf_init</th>\n",
       "      <th>ws_init</th>\n",
       "      <th>xi</th>\n",
       "    </tr>\n",
       "  </thead>\n",
       "  <tbody>\n",
       "    <tr>\n",
       "      <th>0</th>\n",
       "      <td>0.000012</td>\n",
       "      <td>33.12</td>\n",
       "      <td>1.0</td>\n",
       "      <td>0.037851</td>\n",
       "      <td>0.000000</td>\n",
       "      <td>154</td>\n",
       "      <td>138</td>\n",
       "      <td>0.023</td>\n",
       "      <td>362</td>\n",
       "      <td>324</td>\n",
       "      <td>0.0</td>\n",
       "    </tr>\n",
       "    <tr>\n",
       "      <th>1</th>\n",
       "      <td>0.000012</td>\n",
       "      <td>33.12</td>\n",
       "      <td>1.0</td>\n",
       "      <td>0.037851</td>\n",
       "      <td>583.145173</td>\n",
       "      <td>374</td>\n",
       "      <td>178</td>\n",
       "      <td>0.023</td>\n",
       "      <td>872</td>\n",
       "      <td>415</td>\n",
       "      <td>0.0</td>\n",
       "    </tr>\n",
       "    <tr>\n",
       "      <th>2</th>\n",
       "      <td>0.000012</td>\n",
       "      <td>33.12</td>\n",
       "      <td>1.0</td>\n",
       "      <td>0.037851</td>\n",
       "      <td>1166.290346</td>\n",
       "      <td>567</td>\n",
       "      <td>195</td>\n",
       "      <td>0.023</td>\n",
       "      <td>1327</td>\n",
       "      <td>456</td>\n",
       "      <td>0.0</td>\n",
       "    </tr>\n",
       "    <tr>\n",
       "      <th>3</th>\n",
       "      <td>0.000012</td>\n",
       "      <td>33.12</td>\n",
       "      <td>1.0</td>\n",
       "      <td>0.037851</td>\n",
       "      <td>2332.580692</td>\n",
       "      <td>940</td>\n",
       "      <td>214</td>\n",
       "      <td>0.023</td>\n",
       "      <td>2189</td>\n",
       "      <td>499</td>\n",
       "      <td>0.0</td>\n",
       "    </tr>\n",
       "    <tr>\n",
       "      <th>4</th>\n",
       "      <td>0.000012</td>\n",
       "      <td>33.12</td>\n",
       "      <td>1.0</td>\n",
       "      <td>0.037851</td>\n",
       "      <td>3498.871037</td>\n",
       "      <td>1300</td>\n",
       "      <td>224</td>\n",
       "      <td>0.023</td>\n",
       "      <td>3032</td>\n",
       "      <td>522</td>\n",
       "      <td>0.0</td>\n",
       "    </tr>\n",
       "  </tbody>\n",
       "</table>\n",
       "</div>"
      ],
      "text/plain": [
       "          b   beta  delta     gamma        kappa  mf_init  ms_init     mu  \\\n",
       "0  0.000012  33.12    1.0  0.037851     0.000000      154      138  0.023   \n",
       "1  0.000012  33.12    1.0  0.037851   583.145173      374      178  0.023   \n",
       "2  0.000012  33.12    1.0  0.037851  1166.290346      567      195  0.023   \n",
       "3  0.000012  33.12    1.0  0.037851  2332.580692      940      214  0.023   \n",
       "4  0.000012  33.12    1.0  0.037851  3498.871037     1300      224  0.023   \n",
       "\n",
       "   wf_init  ws_init   xi  \n",
       "0      362      324  0.0  \n",
       "1      872      415  0.0  \n",
       "2     1327      456  0.0  \n",
       "3     2189      499  0.0  \n",
       "4     3032      522  0.0  "
      ]
     },
     "execution_count": 10,
     "metadata": {},
     "output_type": "execute_result"
    }
   ],
   "source": [
    "param_df"
   ]
  },
  {
   "cell_type": "code",
   "execution_count": null,
   "metadata": {},
   "outputs": [],
   "source": []
  }
 ],
 "metadata": {
  "kernelspec": {
   "display_name": "Python 2",
   "language": "python",
   "name": "python2"
  },
  "language_info": {
   "codemirror_mode": {
    "name": "ipython",
    "version": 2
   },
   "file_extension": ".py",
   "mimetype": "text/x-python",
   "name": "python",
   "nbconvert_exporter": "python",
   "pygments_lexer": "ipython2",
   "version": "2.7.14"
  }
 },
 "nbformat": 4,
 "nbformat_minor": 2
}
