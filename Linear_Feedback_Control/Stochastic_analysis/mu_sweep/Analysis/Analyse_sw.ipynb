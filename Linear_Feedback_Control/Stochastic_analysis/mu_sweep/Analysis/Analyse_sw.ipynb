{
 "cells": [
  {
   "cell_type": "markdown",
   "metadata": {},
   "source": [
    "# Analyse stochastic simulations of parameter sweep ($\\mu$)\n",
    "\n",
    "Author: Juvid Aryaman"
   ]
  },
  {
   "cell_type": "code",
   "execution_count": 1,
   "metadata": {},
   "outputs": [],
   "source": [
    "import mitonetworks.det as mtd\n",
    "import mitonetworks.stoch as mts\n",
    "import pandas as pd\n",
    "import numpy as np\n",
    "import matplotlib.pyplot as plt\n",
    "\n",
    "import warnings"
   ]
  },
  {
   "cell_type": "code",
   "execution_count": 2,
   "metadata": {},
   "outputs": [],
   "source": [
    "warnings.simplefilter(\"ignore\", UserWarning) # when generating svg's get lots of useless UserWarnings, so suppress them"
   ]
  },
  {
   "cell_type": "code",
   "execution_count": 3,
   "metadata": {},
   "outputs": [],
   "source": [
    "%reload_ext autoreload\n",
    "%autoreload 2\n",
    "%matplotlib inline"
   ]
  },
  {
   "cell_type": "code",
   "execution_count": 4,
   "metadata": {},
   "outputs": [],
   "source": [
    "mts.reset_plots()"
   ]
  },
  {
   "cell_type": "code",
   "execution_count": 12,
   "metadata": {
    "scrolled": false
   },
   "outputs": [],
   "source": [
    "analysis = mts.AnalyseDataFeedbackControl(dir_df_params = '../param_sweep_vals.csv',ctrl_name='lfc',\n",
    "        dir_data = '../Data/',plotextensions=['png','svg']\n",
    ")\n",
    "    \n",
    "analysis.make_gradients()\n",
    "analysis.compute_errors()"
   ]
  },
  {
   "cell_type": "code",
   "execution_count": 13,
   "metadata": {},
   "outputs": [
    {
     "data": {
      "text/html": [
       "<div>\n",
       "<style scoped>\n",
       "    .dataframe tbody tr th:only-of-type {\n",
       "        vertical-align: middle;\n",
       "    }\n",
       "\n",
       "    .dataframe tbody tr th {\n",
       "        vertical-align: top;\n",
       "    }\n",
       "\n",
       "    .dataframe thead th {\n",
       "        text-align: right;\n",
       "    }\n",
       "</style>\n",
       "<table border=\"1\" class=\"dataframe\">\n",
       "  <thead>\n",
       "    <tr style=\"text-align: right;\">\n",
       "      <th></th>\n",
       "      <th>b</th>\n",
       "      <th>beta</th>\n",
       "      <th>delta</th>\n",
       "      <th>gamma</th>\n",
       "      <th>kappa</th>\n",
       "      <th>mf_init</th>\n",
       "      <th>ms_init</th>\n",
       "      <th>mu</th>\n",
       "      <th>wf_init</th>\n",
       "      <th>ws_init</th>\n",
       "      <th>xi</th>\n",
       "    </tr>\n",
       "  </thead>\n",
       "  <tbody>\n",
       "    <tr>\n",
       "      <th>0</th>\n",
       "      <td>0.000012</td>\n",
       "      <td>33.12</td>\n",
       "      <td>1.0</td>\n",
       "      <td>0.037851</td>\n",
       "      <td>258.50</td>\n",
       "      <td>160</td>\n",
       "      <td>140</td>\n",
       "      <td>0.01725</td>\n",
       "      <td>373</td>\n",
       "      <td>326</td>\n",
       "      <td>0.0</td>\n",
       "    </tr>\n",
       "    <tr>\n",
       "      <th>1</th>\n",
       "      <td>0.000012</td>\n",
       "      <td>33.12</td>\n",
       "      <td>1.0</td>\n",
       "      <td>0.037851</td>\n",
       "      <td>-483.25</td>\n",
       "      <td>160</td>\n",
       "      <td>140</td>\n",
       "      <td>0.03450</td>\n",
       "      <td>373</td>\n",
       "      <td>326</td>\n",
       "      <td>0.0</td>\n",
       "    </tr>\n",
       "    <tr>\n",
       "      <th>2</th>\n",
       "      <td>0.000012</td>\n",
       "      <td>33.12</td>\n",
       "      <td>1.0</td>\n",
       "      <td>0.037851</td>\n",
       "      <td>-730.00</td>\n",
       "      <td>160</td>\n",
       "      <td>140</td>\n",
       "      <td>0.04025</td>\n",
       "      <td>374</td>\n",
       "      <td>326</td>\n",
       "      <td>0.0</td>\n",
       "    </tr>\n",
       "    <tr>\n",
       "      <th>3</th>\n",
       "      <td>0.000012</td>\n",
       "      <td>33.12</td>\n",
       "      <td>1.0</td>\n",
       "      <td>0.037851</td>\n",
       "      <td>-977.50</td>\n",
       "      <td>160</td>\n",
       "      <td>140</td>\n",
       "      <td>0.04600</td>\n",
       "      <td>374</td>\n",
       "      <td>326</td>\n",
       "      <td>0.0</td>\n",
       "    </tr>\n",
       "  </tbody>\n",
       "</table>\n",
       "</div>"
      ],
      "text/plain": [
       "          b   beta  delta     gamma   kappa  mf_init  ms_init       mu  \\\n",
       "0  0.000012  33.12    1.0  0.037851  258.50      160      140  0.01725   \n",
       "1  0.000012  33.12    1.0  0.037851 -483.25      160      140  0.03450   \n",
       "2  0.000012  33.12    1.0  0.037851 -730.00      160      140  0.04025   \n",
       "3  0.000012  33.12    1.0  0.037851 -977.50      160      140  0.04600   \n",
       "\n",
       "   wf_init  ws_init   xi  \n",
       "0      373      326  0.0  \n",
       "1      373      326  0.0  \n",
       "2      374      326  0.0  \n",
       "3      374      326  0.0  "
      ]
     },
     "execution_count": 13,
     "metadata": {},
     "output_type": "execute_result"
    }
   ],
   "source": [
    "analysis.df_params"
   ]
  },
  {
   "cell_type": "code",
   "execution_count": 14,
   "metadata": {},
   "outputs": [],
   "source": [
    "mu_nom = 0.023\n",
    "R_m = analysis.df_params['mu']/float(mu_nom)\n",
    "n_m = len(R_m)"
   ]
  },
  {
   "cell_type": "code",
   "execution_count": 15,
   "metadata": {},
   "outputs": [
    {
     "data": {
      "text/plain": [
       "['0.75 $\\\\cdot \\\\mu, \\\\kappa =$ 259',\n",
       " '1.50 $\\\\cdot \\\\mu, \\\\kappa =$ -483',\n",
       " '1.75 $\\\\cdot \\\\mu, \\\\kappa =$ -730',\n",
       " '2.00 $\\\\cdot \\\\mu, \\\\kappa =$ -978']"
      ]
     },
     "execution_count": 15,
     "metadata": {},
     "output_type": "execute_result"
    }
   ],
   "source": [
    "leg_list"
   ]
  },
  {
   "cell_type": "code",
   "execution_count": 16,
   "metadata": {},
   "outputs": [
    {
     "data": {
      "image/png": "[encoded data removed]",
      "text/plain": [
       "<Figure size 360x360 with 1 Axes>"
      ]
     },
     "metadata": {},
     "output_type": "display_data"
    }
   ],
   "source": [
    "leg_list = [r\"{0:.2f} $\\cdot \\mu, \\kappa =$ {1}\".format(R_m[i], int(round(analysis.df_params['kappa'][i]))) for i in range(n_m)]\n",
    "analysis.plot_vh_param_sw(range(n_m), leg_list,figname=\"mu_sw_lfc\",sparsify_data=True, y_dp = 3)"
   ]
  }
 ],
 "metadata": {
  "kernelspec": {
   "display_name": "Python 2",
   "language": "python",
   "name": "python2"
  },
  "language_info": {
   "codemirror_mode": {
    "name": "ipython",
    "version": 2
   },
   "file_extension": ".py",
   "mimetype": "text/x-python",
   "name": "python",
   "nbconvert_exporter": "python",
   "pygments_lexer": "ipython2",
   "version": "2.7.14"
  },
  "widgets": {
   "state": {
    "ce9ab77916ab485ebe64c6617c775f3f": {
     "views": [
      {
       "cell_index": 8
      }
     ]
    }
   },
   "version": "1.2.0"
  }
 },
 "nbformat": 4,
 "nbformat_minor": 2
}
