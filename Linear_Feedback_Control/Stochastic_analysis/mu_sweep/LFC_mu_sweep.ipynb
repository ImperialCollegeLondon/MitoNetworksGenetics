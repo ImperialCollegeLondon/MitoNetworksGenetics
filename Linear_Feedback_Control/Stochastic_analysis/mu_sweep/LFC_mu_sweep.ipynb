{
 "cells": [
  {
   "cell_type": "markdown",
   "metadata": {},
   "source": [
    "# Make parameter submission scripts for HPC \n",
    "\n",
    "## Mitophagy rate sweep\n",
    "\n",
    "Author: Juvid Aryaman"
   ]
  },
  {
   "cell_type": "code",
   "execution_count": 1,
   "metadata": {},
   "outputs": [],
   "source": [
    "import numpy as np\n",
    "import pandas as pd\n",
    "import mitonetworks.det as mtd\n",
    "import mitonetworks.stoch as mts"
   ]
  },
  {
   "cell_type": "code",
   "execution_count": 2,
   "metadata": {},
   "outputs": [],
   "source": [
    "import warnings\n",
    "warnings.simplefilter(\"ignore\",RuntimeWarning)"
   ]
  },
  {
   "cell_type": "code",
   "execution_count": 3,
   "metadata": {},
   "outputs": [],
   "source": [
    "nominal_params = {\n",
    "    'gamma':0.03785142857142858,\n",
    "\t'beta':33.12,\n",
    "\t'kappa':11.662903457629223,\n",
    "\t'b':1.2416523075924095e-05,\n",
    "\t'mu':0.023,\n",
    "\t'xi':0.0,\n",
    "\t'delta':1.0\n",
    "}"
   ]
  },
  {
   "cell_type": "code",
   "execution_count": 4,
   "metadata": {},
   "outputs": [],
   "source": [
    "c_file_param_ordering_convention = ['xi','beta','gamma','kappa','b','mu','delta']"
   ]
  },
  {
   "cell_type": "code",
   "execution_count": 5,
   "metadata": {},
   "outputs": [],
   "source": [
    "hpc_workdir = '$WORK/networks/sing_birth_fus/mu_sw'"
   ]
  },
  {
   "cell_type": "code",
   "execution_count": 6,
   "metadata": {},
   "outputs": [],
   "source": [
    "c_filename = 'closed_loop_deg_single'"
   ]
  },
  {
   "cell_type": "code",
   "execution_count": 7,
   "metadata": {},
   "outputs": [],
   "source": [
    "hpc_jobname = 'mu_sw'"
   ]
  },
  {
   "cell_type": "code",
   "execution_count": 8,
   "metadata": {},
   "outputs": [],
   "source": [
    "ms = mts.SubmitHPCSoluableFeedbackControl(ss_definition=mtd.E_linear_feedback_control_ss,\n",
    "                                 nominal_params=nominal_params,hpc_workdir=hpc_workdir,\n",
    "                                c_filename=c_filename, c_file_param_ordering_convention=c_file_param_ordering_convention,\n",
    "                                hpc_jobname=hpc_jobname)"
   ]
  },
  {
   "cell_type": "code",
   "execution_count": 9,
   "metadata": {},
   "outputs": [
    {
     "name": "stdout",
     "output_type": "stream",
     "text": [
      "[0.32832833]\n"
     ]
    }
   ],
   "source": [
    "ics, h_opt, err = ms.find_ss_h_target(nominal_params)\n",
    "print((ics[0]+[2])/float(np.sum(ics)))"
   ]
  },
  {
   "cell_type": "markdown",
   "metadata": {},
   "source": [
    "Find optimal $\\kappa,\\mu$ pairs for $h=0.3$ and $n=1000$"
   ]
  },
  {
   "cell_type": "code",
   "execution_count": 10,
   "metadata": {},
   "outputs": [
    {
     "name": "stdout",
     "output_type": "stream",
     "text": [
      "[0.32832833]\n",
      "[0.32832833]\n",
      "[0.328]\n",
      "[0.328]\n"
     ]
    }
   ],
   "source": [
    "n_target = 1000.0\n",
    "kappa_space = np.linspace(-1000,500,2001)\n",
    "mu_sp = [0.75,1.5,1.75,2]\n",
    "\n",
    "opt_params = []\n",
    "\n",
    "params = nominal_params.copy()\n",
    "\n",
    "for mu_val in mu_sp:\n",
    "    params['mu'] = mu_val*nominal_params['mu']\n",
    "    \n",
    "    n_sp = []\n",
    "    n_ind_sp = []\n",
    "    fs_sp = []\n",
    "    ics_sp = []\n",
    "    \n",
    "    # Find corresponding kappa to keep copy number constant\n",
    "    for j, kappa_val in enumerate(kappa_space): \n",
    "        params['kappa'] = kappa_val\n",
    "        ics, h_opt, err = ms.find_ss_h_target(params)\n",
    "        \n",
    "        if err == 1:\n",
    "            n_sp.append(np.sum(ics))\n",
    "            n_ind_sp.append(j)\n",
    "            fs_sp.append((ics[0]+[2])/float(np.sum(ics)))\n",
    "            ics_sp.append(ics)\n",
    "        else:\n",
    "            continue\n",
    "    n_sp = np.array(n_sp)\n",
    "    n_ind_opt =  np.argmin(np.abs(n_sp - n_target))\n",
    "    \n",
    "    print(fs_sp[n_ind_opt]) # fs at this optimal parametrization. This should be invariant\n",
    "    \n",
    "    if abs(n_sp[n_ind_opt] - n_target) > 1.5:\n",
    "        raise Exception(\"Could not find a kappa for this mu where n is close to n_target\")\n",
    "    \n",
    "    opt_params.append([params['mu'],kappa_space[n_ind_sp[n_ind_opt]],ics_sp[n_ind_opt]])\n",
    "    "
   ]
  },
  {
   "cell_type": "code",
   "execution_count": 11,
   "metadata": {},
   "outputs": [
    {
     "data": {
      "text/plain": [
       "[[0.01725, 258.5, array([326, 373, 140, 160])],\n",
       " [0.0345, -483.25, array([326, 373, 140, 160])],\n",
       " [0.04025, -730.0, array([326, 374, 140, 160])],\n",
       " [0.046, -977.5, array([326, 374, 140, 160])]]"
      ]
     },
     "execution_count": 11,
     "metadata": {},
     "output_type": "execute_result"
    }
   ],
   "source": [
    "opt_params"
   ]
  },
  {
   "cell_type": "markdown",
   "metadata": {},
   "source": [
    "Make submission"
   ]
  },
  {
   "cell_type": "code",
   "execution_count": 15,
   "metadata": {},
   "outputs": [],
   "source": [
    "master_script = open(ms.out_dir+\"/master.sh\",\"w\")\n",
    "# Add the .c compilation line to the master script\n",
    "master_script.write('gcc -o3 {0}.c -lm -o {0}.ce\\n'.format(ms.c_filename))\n",
    "\n",
    "# Output dataframe with parametriations\n",
    "param_df =  []\n",
    "\n",
    "for i, p in enumerate(opt_params):\n",
    "    params['mu'] = p[0]\n",
    "    params['kappa'] = p[1]\n",
    "    param_dict = params.copy()\n",
    "    \n",
    "    ics, h_opt, err = ms.find_ss_h_target(params)\n",
    "    \n",
    "    for k, param in enumerate(ms.param_convention): param_dict[param+'_init'] = ics[k]\n",
    "    param_df.append(pd.DataFrame(param_dict, index=[0]))\n",
    "    \n",
    "    ics, h_opt, err = ms.find_ss_h_target(params)\n",
    "    if err == 1:\n",
    "        ms.make_submission_script(i,ics,params)\n",
    "        # Add the submission to a master script\n",
    "        master_script.write('echo \"{}\"\\n'.format(i))\n",
    "        master_script.write('mkdir -p {0}/p{1}\\n'.format(ms.hpc_workdir,i))\n",
    "        master_script.write(\"qsub submission_{}.pbs\\n\".format(i))\n",
    "        master_script.write('sleep 0.5\\n')\n",
    "    else:\n",
    "        raise Exception('SS not found!')\n",
    "master_script.close()\n",
    "param_df = pd.concat(param_df, ignore_index=True)\n",
    "param_df.to_csv(ms.out_dir+'/param_sweep_vals.csv',index=False)    "
   ]
  },
  {
   "cell_type": "code",
   "execution_count": 16,
   "metadata": {},
   "outputs": [
    {
     "data": {
      "text/html": [
       "<div>\n",
       "<style scoped>\n",
       "    .dataframe tbody tr th:only-of-type {\n",
       "        vertical-align: middle;\n",
       "    }\n",
       "\n",
       "    .dataframe tbody tr th {\n",
       "        vertical-align: top;\n",
       "    }\n",
       "\n",
       "    .dataframe thead th {\n",
       "        text-align: right;\n",
       "    }\n",
       "</style>\n",
       "<table border=\"1\" class=\"dataframe\">\n",
       "  <thead>\n",
       "    <tr style=\"text-align: right;\">\n",
       "      <th></th>\n",
       "      <th>b</th>\n",
       "      <th>beta</th>\n",
       "      <th>delta</th>\n",
       "      <th>gamma</th>\n",
       "      <th>kappa</th>\n",
       "      <th>mf_init</th>\n",
       "      <th>ms_init</th>\n",
       "      <th>mu</th>\n",
       "      <th>wf_init</th>\n",
       "      <th>ws_init</th>\n",
       "      <th>xi</th>\n",
       "    </tr>\n",
       "  </thead>\n",
       "  <tbody>\n",
       "    <tr>\n",
       "      <th>0</th>\n",
       "      <td>0.000012</td>\n",
       "      <td>33.12</td>\n",
       "      <td>1.0</td>\n",
       "      <td>0.037851</td>\n",
       "      <td>258.50</td>\n",
       "      <td>160</td>\n",
       "      <td>140</td>\n",
       "      <td>0.01725</td>\n",
       "      <td>373</td>\n",
       "      <td>326</td>\n",
       "      <td>0.0</td>\n",
       "    </tr>\n",
       "    <tr>\n",
       "      <th>1</th>\n",
       "      <td>0.000012</td>\n",
       "      <td>33.12</td>\n",
       "      <td>1.0</td>\n",
       "      <td>0.037851</td>\n",
       "      <td>-483.25</td>\n",
       "      <td>160</td>\n",
       "      <td>140</td>\n",
       "      <td>0.03450</td>\n",
       "      <td>373</td>\n",
       "      <td>326</td>\n",
       "      <td>0.0</td>\n",
       "    </tr>\n",
       "    <tr>\n",
       "      <th>2</th>\n",
       "      <td>0.000012</td>\n",
       "      <td>33.12</td>\n",
       "      <td>1.0</td>\n",
       "      <td>0.037851</td>\n",
       "      <td>-730.00</td>\n",
       "      <td>160</td>\n",
       "      <td>140</td>\n",
       "      <td>0.04025</td>\n",
       "      <td>374</td>\n",
       "      <td>326</td>\n",
       "      <td>0.0</td>\n",
       "    </tr>\n",
       "    <tr>\n",
       "      <th>3</th>\n",
       "      <td>0.000012</td>\n",
       "      <td>33.12</td>\n",
       "      <td>1.0</td>\n",
       "      <td>0.037851</td>\n",
       "      <td>-977.50</td>\n",
       "      <td>160</td>\n",
       "      <td>140</td>\n",
       "      <td>0.04600</td>\n",
       "      <td>374</td>\n",
       "      <td>326</td>\n",
       "      <td>0.0</td>\n",
       "    </tr>\n",
       "  </tbody>\n",
       "</table>\n",
       "</div>"
      ],
      "text/plain": [
       "          b   beta  delta     gamma   kappa  mf_init  ms_init       mu  \\\n",
       "0  0.000012  33.12    1.0  0.037851  258.50      160      140  0.01725   \n",
       "1  0.000012  33.12    1.0  0.037851 -483.25      160      140  0.03450   \n",
       "2  0.000012  33.12    1.0  0.037851 -730.00      160      140  0.04025   \n",
       "3  0.000012  33.12    1.0  0.037851 -977.50      160      140  0.04600   \n",
       "\n",
       "   wf_init  ws_init   xi  \n",
       "0      373      326  0.0  \n",
       "1      373      326  0.0  \n",
       "2      374      326  0.0  \n",
       "3      374      326  0.0  "
      ]
     },
     "execution_count": 16,
     "metadata": {},
     "output_type": "execute_result"
    }
   ],
   "source": [
    "param_df"
   ]
  },
  {
   "cell_type": "code",
   "execution_count": 17,
   "metadata": {},
   "outputs": [
    {
     "data": {
      "text/plain": [
       "0    0.75\n",
       "1    1.50\n",
       "2    1.75\n",
       "3    2.00\n",
       "Name: mu, dtype: float64"
      ]
     },
     "execution_count": 17,
     "metadata": {},
     "output_type": "execute_result"
    }
   ],
   "source": [
    "param_df['mu']/0.023"
   ]
  }
 ],
 "metadata": {
  "kernelspec": {
   "display_name": "Python 2",
   "language": "python",
   "name": "python2"
  },
  "language_info": {
   "codemirror_mode": {
    "name": "ipython",
    "version": 2
   },
   "file_extension": ".py",
   "mimetype": "text/x-python",
   "name": "python",
   "nbconvert_exporter": "python",
   "pygments_lexer": "ipython2",
   "version": "2.7.14"
  }
 },
 "nbformat": 4,
 "nbformat_minor": 2
}
