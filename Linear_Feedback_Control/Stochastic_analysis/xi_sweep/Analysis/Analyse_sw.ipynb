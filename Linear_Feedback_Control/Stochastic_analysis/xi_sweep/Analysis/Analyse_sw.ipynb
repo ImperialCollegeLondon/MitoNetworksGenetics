{
 "cells": [
  {
   "cell_type": "markdown",
   "metadata": {},
   "source": [
    "# Analyse stochastic simulations of parameter sweep ($\\xi$)\n",
    "\n",
    "Author: Juvid Aryaman"
   ]
  },
  {
   "cell_type": "code",
   "execution_count": 1,
   "metadata": {},
   "outputs": [],
   "source": [
    "import mitonetworks.det as mtd\n",
    "import mitonetworks.stoch as mts\n",
    "import pandas as pd\n",
    "import numpy as np\n",
    "import matplotlib.pyplot as plt\n",
    "\n",
    "import warnings"
   ]
  },
  {
   "cell_type": "code",
   "execution_count": 2,
   "metadata": {},
   "outputs": [],
   "source": [
    "warnings.simplefilter(\"ignore\", UserWarning) # when generating svg's get lots of useless UserWarnings, so suppress them"
   ]
  },
  {
   "cell_type": "code",
   "execution_count": 3,
   "metadata": {},
   "outputs": [],
   "source": [
    "%reload_ext autoreload\n",
    "%autoreload 2\n",
    "%matplotlib inline"
   ]
  },
  {
   "cell_type": "code",
   "execution_count": 4,
   "metadata": {},
   "outputs": [],
   "source": [
    "mts.reset_plots()"
   ]
  },
  {
   "cell_type": "code",
   "execution_count": 5,
   "metadata": {
    "scrolled": false
   },
   "outputs": [],
   "source": [
    "analysis = mts.AnalyseDataFeedbackControl(dir_df_params = '../param_sweep_vals.csv',ctrl_name='lfc',use_xi_ansatz=True, \n",
    "        dir_data = '../Data/',plotextensions=['png']\n",
    ")\n",
    "    \n",
    "analysis.make_gradients()\n",
    "analysis.compute_errors()"
   ]
  },
  {
   "cell_type": "code",
   "execution_count": 6,
   "metadata": {},
   "outputs": [
    {
     "data": {
      "text/html": [
       "<div>\n",
       "<style scoped>\n",
       "    .dataframe tbody tr th:only-of-type {\n",
       "        vertical-align: middle;\n",
       "    }\n",
       "\n",
       "    .dataframe tbody tr th {\n",
       "        vertical-align: top;\n",
       "    }\n",
       "\n",
       "    .dataframe thead th {\n",
       "        text-align: right;\n",
       "    }\n",
       "</style>\n",
       "<table border=\"1\" class=\"dataframe\">\n",
       "  <thead>\n",
       "    <tr style=\"text-align: right;\">\n",
       "      <th></th>\n",
       "      <th>b</th>\n",
       "      <th>beta</th>\n",
       "      <th>delta</th>\n",
       "      <th>gamma</th>\n",
       "      <th>kappa</th>\n",
       "      <th>mf_init</th>\n",
       "      <th>ms_init</th>\n",
       "      <th>mu</th>\n",
       "      <th>wf_init</th>\n",
       "      <th>ws_init</th>\n",
       "      <th>xi</th>\n",
       "    </tr>\n",
       "  </thead>\n",
       "  <tbody>\n",
       "    <tr>\n",
       "      <th>0</th>\n",
       "      <td>0.000012</td>\n",
       "      <td>33.12</td>\n",
       "      <td>1.0</td>\n",
       "      <td>0.037851</td>\n",
       "      <td>209.0</td>\n",
       "      <td>160</td>\n",
       "      <td>140</td>\n",
       "      <td>0.023</td>\n",
       "      <td>373</td>\n",
       "      <td>326</td>\n",
       "      <td>0.2</td>\n",
       "    </tr>\n",
       "    <tr>\n",
       "      <th>1</th>\n",
       "      <td>0.000012</td>\n",
       "      <td>33.12</td>\n",
       "      <td>1.0</td>\n",
       "      <td>0.037851</td>\n",
       "      <td>406.0</td>\n",
       "      <td>160</td>\n",
       "      <td>140</td>\n",
       "      <td>0.023</td>\n",
       "      <td>373</td>\n",
       "      <td>326</td>\n",
       "      <td>0.4</td>\n",
       "    </tr>\n",
       "    <tr>\n",
       "      <th>2</th>\n",
       "      <td>0.000012</td>\n",
       "      <td>33.12</td>\n",
       "      <td>1.0</td>\n",
       "      <td>0.037851</td>\n",
       "      <td>605.0</td>\n",
       "      <td>160</td>\n",
       "      <td>140</td>\n",
       "      <td>0.023</td>\n",
       "      <td>374</td>\n",
       "      <td>326</td>\n",
       "      <td>0.6</td>\n",
       "    </tr>\n",
       "    <tr>\n",
       "      <th>3</th>\n",
       "      <td>0.000012</td>\n",
       "      <td>33.12</td>\n",
       "      <td>1.0</td>\n",
       "      <td>0.037851</td>\n",
       "      <td>801.0</td>\n",
       "      <td>160</td>\n",
       "      <td>140</td>\n",
       "      <td>0.023</td>\n",
       "      <td>373</td>\n",
       "      <td>326</td>\n",
       "      <td>0.8</td>\n",
       "    </tr>\n",
       "  </tbody>\n",
       "</table>\n",
       "</div>"
      ],
      "text/plain": [
       "          b   beta  delta     gamma  kappa  mf_init  ms_init     mu  wf_init  \\\n",
       "0  0.000012  33.12    1.0  0.037851  209.0      160      140  0.023      373   \n",
       "1  0.000012  33.12    1.0  0.037851  406.0      160      140  0.023      373   \n",
       "2  0.000012  33.12    1.0  0.037851  605.0      160      140  0.023      374   \n",
       "3  0.000012  33.12    1.0  0.037851  801.0      160      140  0.023      373   \n",
       "\n",
       "   ws_init   xi  \n",
       "0      326  0.2  \n",
       "1      326  0.4  \n",
       "2      326  0.6  \n",
       "3      326  0.8  "
      ]
     },
     "execution_count": 6,
     "metadata": {},
     "output_type": "execute_result"
    }
   ],
   "source": [
    "analysis.df_params"
   ]
  },
  {
   "cell_type": "code",
   "execution_count": 7,
   "metadata": {},
   "outputs": [],
   "source": [
    "analysis.plotextensions = ['png','svg']"
   ]
  },
  {
   "cell_type": "code",
   "execution_count": 9,
   "metadata": {},
   "outputs": [
    {
     "data": {
      "image/png": "[encoded data removed]",
      "text/plain": [
       "<Figure size 360x360 with 1 Axes>"
      ]
     },
     "metadata": {},
     "output_type": "display_data"
    }
   ],
   "source": [
    "n = len(analysis.df_params)\n",
    "leg_list = [r\"$\\xi={0:.1f}, \\kappa = {1}$\".format(analysis.df_params['xi'][i], analysis.df_params['kappa'][i]) for i in range(n)]\n",
    "analysis.plot_vh_param_sw(range(n), leg_list,figname=\"xi_sw_lfc\",sparsify_data=True, \n",
    "    leg_title=r\"$\\mathbb{V}(h) \\propto (f_s+\\xi(1-f_s))$\",\n",
    "                         leg_fontsize=10)"
   ]
  }
 ],
 "metadata": {
  "kernelspec": {
   "display_name": "Python 2",
   "language": "python",
   "name": "python2"
  },
  "language_info": {
   "codemirror_mode": {
    "name": "ipython",
    "version": 2
   },
   "file_extension": ".py",
   "mimetype": "text/x-python",
   "name": "python",
   "nbconvert_exporter": "python",
   "pygments_lexer": "ipython2",
   "version": "2.7.14"
  },
  "widgets": {
   "state": {
    "ce9ab77916ab485ebe64c6617c775f3f": {
     "views": [
      {
       "cell_index": 8
      }
     ]
    }
   },
   "version": "1.2.0"
  }
 },
 "nbformat": 4,
 "nbformat_minor": 2
}
