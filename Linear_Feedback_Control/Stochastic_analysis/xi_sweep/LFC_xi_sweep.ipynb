{
 "cells": [
  {
   "cell_type": "markdown",
   "metadata": {},
   "source": [
    "# Make parameter submission scripts for HPC \n",
    "\n",
    "## $\\xi$ sweep\n",
    "\n",
    "Author: Juvid Aryaman"
   ]
  },
  {
   "cell_type": "code",
   "execution_count": 17,
   "metadata": {},
   "outputs": [],
   "source": [
    "import numpy as np\n",
    "import pandas as pd\n",
    "import mitonetworks.det as mtd\n",
    "import mitonetworks.stoch as mts"
   ]
  },
  {
   "cell_type": "code",
   "execution_count": 18,
   "metadata": {},
   "outputs": [],
   "source": [
    "import warnings\n",
    "warnings.simplefilter(\"ignore\",RuntimeWarning)"
   ]
  },
  {
   "cell_type": "code",
   "execution_count": 19,
   "metadata": {},
   "outputs": [],
   "source": [
    "nominal_params = {\n",
    "    'gamma':0.03785142857142858,\n",
    "\t'beta':33.12,\n",
    "\t'kappa':11.662903457629223,\n",
    "\t'b':1.2416523075924095e-05,\n",
    "\t'mu':0.023,\n",
    "\t'xi':0.0,\n",
    "\t'delta':1.0\n",
    "}"
   ]
  },
  {
   "cell_type": "code",
   "execution_count": 20,
   "metadata": {},
   "outputs": [],
   "source": [
    "c_file_param_ordering_convention = ['xi','beta','gamma','kappa','b','mu','delta']"
   ]
  },
  {
   "cell_type": "code",
   "execution_count": 21,
   "metadata": {},
   "outputs": [],
   "source": [
    "hpc_workdir = '$WORK/networks/sing_birth_fus/xi_sw'"
   ]
  },
  {
   "cell_type": "code",
   "execution_count": 22,
   "metadata": {},
   "outputs": [],
   "source": [
    "c_filename = 'closed_loop_deg_single'"
   ]
  },
  {
   "cell_type": "code",
   "execution_count": 23,
   "metadata": {},
   "outputs": [],
   "source": [
    "hpc_jobname = 'xi_sw'"
   ]
  },
  {
   "cell_type": "code",
   "execution_count": 24,
   "metadata": {},
   "outputs": [],
   "source": [
    "xs = mts.SubmitHPCSoluableFeedbackControl(ss_definition=mtd.E_linear_feedback_control_ss,\n",
    "                                 nominal_params=nominal_params,hpc_workdir=hpc_workdir,\n",
    "                                c_filename=c_filename, c_file_param_ordering_convention=c_file_param_ordering_convention,\n",
    "                                hpc_jobname=hpc_jobname)"
   ]
  },
  {
   "cell_type": "code",
   "execution_count": 26,
   "metadata": {},
   "outputs": [
    {
     "name": "stdout",
     "output_type": "stream",
     "text": [
      "[0.32832833]\n"
     ]
    }
   ],
   "source": [
    "ics, h_opt, err = xs.find_ss_h_target(nominal_params)\n",
    "print((ics[0]+[2])/float(np.sum(ics)))"
   ]
  },
  {
   "cell_type": "markdown",
   "metadata": {},
   "source": [
    "Find optimal $\\kappa,\\xi$ pairs for $h=0.3$ and $n=1000$"
   ]
  },
  {
   "cell_type": "code",
   "execution_count": 32,
   "metadata": {},
   "outputs": [
    {
     "name": "stdout",
     "output_type": "stream",
     "text": [
      "(999, array([0.32832833]))\n",
      "(999, array([0.32832833]))\n",
      "(1000, array([0.328]))\n",
      "(999, array([0.32832833]))\n"
     ]
    }
   ],
   "source": [
    "n_target = 1000.0\n",
    "kappa_space = np.linspace(-1000,1000,2001)\n",
    "xi_sp = [0.2,0.4,0.6,0.8]\n",
    "\n",
    "opt_params = []\n",
    "\n",
    "params = nominal_params.copy()\n",
    "\n",
    "for xi_val in xi_sp:\n",
    "    params['xi'] = xi_val\n",
    "    \n",
    "    n_sp = []\n",
    "    n_ind_sp = []\n",
    "    fs_sp = []\n",
    "    ics_sp = []\n",
    "    \n",
    "    # Find corresponding kappa to keep copy number constant\n",
    "    for j, kappa_val in enumerate(kappa_space): \n",
    "        params['kappa'] = kappa_val\n",
    "        ics, h_opt, err = xs.find_ss_h_target(params)\n",
    "        \n",
    "        if err == 1:\n",
    "            n_sp.append(np.sum(ics))\n",
    "            n_ind_sp.append(j)\n",
    "            fs_sp.append((ics[0]+[2])/float(np.sum(ics)))\n",
    "            ics_sp.append(ics)\n",
    "        else:\n",
    "            continue\n",
    "    n_sp = np.array(n_sp)\n",
    "    n_ind_opt =  np.argmin(np.abs(n_sp - n_target))\n",
    "    \n",
    "    print(n_sp[n_ind_opt],fs_sp[n_ind_opt]) # fs at this optimal parametrization. This should be invariant\n",
    "    \n",
    "    if abs(n_sp[n_ind_opt] - n_target) > 1.5:\n",
    "        raise Exception(\"Could not find a kappa for this mu where n is close to n_target\")\n",
    "    \n",
    "    opt_params.append([params['xi'],kappa_space[n_ind_sp[n_ind_opt]],ics_sp[n_ind_opt]])\n",
    "    "
   ]
  },
  {
   "cell_type": "code",
   "execution_count": 33,
   "metadata": {},
   "outputs": [
    {
     "data": {
      "text/plain": [
       "[[0.2, 209.0, array([326, 373, 140, 160])],\n",
       " [0.4, 406.0, array([326, 373, 140, 160])],\n",
       " [0.6, 605.0, array([326, 374, 140, 160])],\n",
       " [0.8, 801.0, array([326, 373, 140, 160])]]"
      ]
     },
     "execution_count": 33,
     "metadata": {},
     "output_type": "execute_result"
    }
   ],
   "source": [
    "opt_params"
   ]
  },
  {
   "cell_type": "markdown",
   "metadata": {},
   "source": [
    "Make submission"
   ]
  },
  {
   "cell_type": "code",
   "execution_count": 36,
   "metadata": {},
   "outputs": [],
   "source": [
    "master_script = open(xs.out_dir+\"/master.sh\",\"w\")\n",
    "# Add the .c compilation line to the master script\n",
    "master_script.write('gcc -o3 {0}.c -lm -o {0}.ce\\n'.format(xs.c_filename))\n",
    "\n",
    "# Output dataframe with parametriations\n",
    "param_df =  []\n",
    "\n",
    "for i, p in enumerate(opt_params):\n",
    "    params['xi'] = p[0]\n",
    "    params['kappa'] = p[1]\n",
    "    param_dict = params.copy()\n",
    "    \n",
    "    ics, h_opt, err = xs.find_ss_h_target(params)\n",
    "    \n",
    "    for k, param in enumerate(xs.param_convention): param_dict[param+'_init'] = ics[k]\n",
    "    param_df.append(pd.DataFrame(param_dict, index=[0]))\n",
    "    \n",
    "    ics, h_opt, err = xs.find_ss_h_target(params)\n",
    "    if err == 1:\n",
    "        xs.make_submission_script(i,ics,params)\n",
    "        # Add the submission to a master script\n",
    "        master_script.write('echo \"{}\"\\n'.format(i))\n",
    "        master_script.write('mkdir -p {0}/p{1}\\n'.format(xs.hpc_workdir,i))\n",
    "        master_script.write(\"qsub submission_{}.pbs\\n\".format(i))\n",
    "        master_script.write('sleep 0.5\\n')\n",
    "    else:\n",
    "        raise Exception('SS not found!')\n",
    "master_script.close()\n",
    "param_df = pd.concat(param_df, ignore_index=True)\n",
    "param_df.to_csv(xs.out_dir+'/param_sweep_vals.csv',index=False)    "
   ]
  },
  {
   "cell_type": "code",
   "execution_count": 37,
   "metadata": {},
   "outputs": [
    {
     "data": {
      "text/html": [
       "<div>\n",
       "<style scoped>\n",
       "    .dataframe tbody tr th:only-of-type {\n",
       "        vertical-align: middle;\n",
       "    }\n",
       "\n",
       "    .dataframe tbody tr th {\n",
       "        vertical-align: top;\n",
       "    }\n",
       "\n",
       "    .dataframe thead th {\n",
       "        text-align: right;\n",
       "    }\n",
       "</style>\n",
       "<table border=\"1\" class=\"dataframe\">\n",
       "  <thead>\n",
       "    <tr style=\"text-align: right;\">\n",
       "      <th></th>\n",
       "      <th>b</th>\n",
       "      <th>beta</th>\n",
       "      <th>delta</th>\n",
       "      <th>gamma</th>\n",
       "      <th>kappa</th>\n",
       "      <th>mf_init</th>\n",
       "      <th>ms_init</th>\n",
       "      <th>mu</th>\n",
       "      <th>wf_init</th>\n",
       "      <th>ws_init</th>\n",
       "      <th>xi</th>\n",
       "    </tr>\n",
       "  </thead>\n",
       "  <tbody>\n",
       "    <tr>\n",
       "      <th>0</th>\n",
       "      <td>0.000012</td>\n",
       "      <td>33.12</td>\n",
       "      <td>1.0</td>\n",
       "      <td>0.037851</td>\n",
       "      <td>209.0</td>\n",
       "      <td>160</td>\n",
       "      <td>140</td>\n",
       "      <td>0.023</td>\n",
       "      <td>373</td>\n",
       "      <td>326</td>\n",
       "      <td>0.2</td>\n",
       "    </tr>\n",
       "    <tr>\n",
       "      <th>1</th>\n",
       "      <td>0.000012</td>\n",
       "      <td>33.12</td>\n",
       "      <td>1.0</td>\n",
       "      <td>0.037851</td>\n",
       "      <td>406.0</td>\n",
       "      <td>160</td>\n",
       "      <td>140</td>\n",
       "      <td>0.023</td>\n",
       "      <td>373</td>\n",
       "      <td>326</td>\n",
       "      <td>0.4</td>\n",
       "    </tr>\n",
       "    <tr>\n",
       "      <th>2</th>\n",
       "      <td>0.000012</td>\n",
       "      <td>33.12</td>\n",
       "      <td>1.0</td>\n",
       "      <td>0.037851</td>\n",
       "      <td>605.0</td>\n",
       "      <td>160</td>\n",
       "      <td>140</td>\n",
       "      <td>0.023</td>\n",
       "      <td>374</td>\n",
       "      <td>326</td>\n",
       "      <td>0.6</td>\n",
       "    </tr>\n",
       "    <tr>\n",
       "      <th>3</th>\n",
       "      <td>0.000012</td>\n",
       "      <td>33.12</td>\n",
       "      <td>1.0</td>\n",
       "      <td>0.037851</td>\n",
       "      <td>801.0</td>\n",
       "      <td>160</td>\n",
       "      <td>140</td>\n",
       "      <td>0.023</td>\n",
       "      <td>373</td>\n",
       "      <td>326</td>\n",
       "      <td>0.8</td>\n",
       "    </tr>\n",
       "  </tbody>\n",
       "</table>\n",
       "</div>"
      ],
      "text/plain": [
       "          b   beta  delta     gamma  kappa  mf_init  ms_init     mu  wf_init  \\\n",
       "0  0.000012  33.12    1.0  0.037851  209.0      160      140  0.023      373   \n",
       "1  0.000012  33.12    1.0  0.037851  406.0      160      140  0.023      373   \n",
       "2  0.000012  33.12    1.0  0.037851  605.0      160      140  0.023      374   \n",
       "3  0.000012  33.12    1.0  0.037851  801.0      160      140  0.023      373   \n",
       "\n",
       "   ws_init   xi  \n",
       "0      326  0.2  \n",
       "1      326  0.4  \n",
       "2      326  0.6  \n",
       "3      326  0.8  "
      ]
     },
     "execution_count": 37,
     "metadata": {},
     "output_type": "execute_result"
    }
   ],
   "source": [
    "param_df"
   ]
  }
 ],
 "metadata": {
  "kernelspec": {
   "display_name": "Python 2",
   "language": "python",
   "name": "python2"
  },
  "language_info": {
   "codemirror_mode": {
    "name": "ipython",
    "version": 2
   },
   "file_extension": ".py",
   "mimetype": "text/x-python",
   "name": "python",
   "nbconvert_exporter": "python",
   "pygments_lexer": "ipython2",
   "version": "2.7.14"
  }
 },
 "nbformat": 4,
 "nbformat_minor": 2
}
