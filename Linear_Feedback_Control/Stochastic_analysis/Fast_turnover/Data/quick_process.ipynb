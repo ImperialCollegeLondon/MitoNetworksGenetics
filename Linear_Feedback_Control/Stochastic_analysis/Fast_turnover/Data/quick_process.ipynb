{
 "cells": [
  {
   "cell_type": "code",
   "execution_count": 69,
   "metadata": {},
   "outputs": [],
   "source": [
    "import pandas as pd\n",
    "import numpy as np\n",
    "import os\n",
    "import re\n",
    "import mystyle.sty as sty\n",
    "import matplotlib.pyplot as plt"
   ]
  },
  {
   "cell_type": "code",
   "execution_count": 70,
   "metadata": {},
   "outputs": [],
   "source": [
    "sty.reset_plots()"
   ]
  },
  {
   "cell_type": "code",
   "execution_count": 71,
   "metadata": {},
   "outputs": [],
   "source": [
    "files_all = os.listdir()\n",
    "files_out = []\n",
    "for file in files_all:\n",
    "    if file[:6] == 'output':\n",
    "        files_out.append(file)"
   ]
  },
  {
   "cell_type": "code",
   "execution_count": null,
   "metadata": {},
   "outputs": [],
   "source": [
    " "
   ]
  },
  {
   "cell_type": "code",
   "execution_count": 73,
   "metadata": {},
   "outputs": [
    {
     "name": "stdout",
     "output_type": "stream",
     "text": [
      "0\n"
     ]
    }
   ],
   "source": [
    "d_all = pd.DataFrame(columns=['t', 'rep', 'ws', 'ms', 'wf', 'mf', 'h', 'n', 'pb'], dtype=float)\n",
    "for i, file in enumerate(files_out):\n",
    "    if i %100 == 0:\n",
    "        print(i)\n",
    "    param_block = int(re.search(\"^output_0_(.*\\w).txt$\", file).groups()[0])\n",
    "    d = pd.read_csv(file, skiprows=10, delimiter=',')\n",
    "    d['pb'] = param_block\n",
    "    d_all = pd.concat((d_all, d))\n",
    "    if i == 99:\n",
    "        break"
   ]
  },
  {
   "cell_type": "code",
   "execution_count": 74,
   "metadata": {},
   "outputs": [
    {
     "data": {
      "text/plain": [
       "(760000, 9)"
      ]
     },
     "execution_count": 74,
     "metadata": {},
     "output_type": "execute_result"
    }
   ],
   "source": [
    "d_all.shape"
   ]
  },
  {
   "cell_type": "code",
   "execution_count": 75,
   "metadata": {},
   "outputs": [],
   "source": [
    "d_all['fs'] = (d_all['ws']+d_all['ms'])/d_all['n']"
   ]
  },
  {
   "cell_type": "code",
   "execution_count": 76,
   "metadata": {},
   "outputs": [],
   "source": [
    "g = d_all[['t','h','n','fs']].groupby('t')"
   ]
  },
  {
   "cell_type": "code",
   "execution_count": 77,
   "metadata": {},
   "outputs": [],
   "source": [
    "# means = g.mean()\n",
    "# variances = g.var(ddof=1)\n",
    "\n",
    "# fig, ax = plt.subplots(1,1)\n",
    "# ax.plot(means.index, means.h)"
   ]
  },
  {
   "cell_type": "code",
   "execution_count": 87,
   "metadata": {},
   "outputs": [
    {
     "data": {
      "text/plain": [
       "[<matplotlib.lines.Line2D at 0x7f203b6657f0>]"
      ]
     },
     "execution_count": 87,
     "metadata": {},
     "output_type": "execute_result"
    },
    {
     "data": {
      "image/png": "[encoded data removed]",
      "text/plain": [
       "<Figure size 432x288 with 1 Axes>"
      ]
     },
     "metadata": {
      "needs_background": "light"
     },
     "output_type": "display_data"
    }
   ],
   "source": [
    "means = g.mean()\n",
    "variances = g.var(ddof=1)\n",
    "\n",
    "fig, ax = plt.subplots(1,1)\n",
    "ax.plot(variances.index, variances.h)\n",
    "\n",
    "ax.plot(var_th.index, var_th.values, '--r')"
   ]
  },
  {
   "cell_type": "code",
   "execution_count": 86,
   "metadata": {},
   "outputs": [],
   "source": [
    "var_th = means.index * means.h*(1. - means.h)*means.fs*2.0*3.4657359028e-01/means.n"
   ]
  },
  {
   "cell_type": "code",
   "execution_count": null,
   "metadata": {},
   "outputs": [],
   "source": []
  },
  {
   "cell_type": "code",
   "execution_count": null,
   "metadata": {},
   "outputs": [],
   "source": []
  }
 ],
 "metadata": {
  "kernelspec": {
   "display_name": "Python 3",
   "language": "python",
   "name": "python3"
  },
  "language_info": {
   "codemirror_mode": {
    "name": "ipython",
    "version": 3
   },
   "file_extension": ".py",
   "mimetype": "text/x-python",
   "name": "python",
   "nbconvert_exporter": "python",
   "pygments_lexer": "ipython3",
   "version": "3.7.3"
  }
 },
 "nbformat": 4,
 "nbformat_minor": 2
}
