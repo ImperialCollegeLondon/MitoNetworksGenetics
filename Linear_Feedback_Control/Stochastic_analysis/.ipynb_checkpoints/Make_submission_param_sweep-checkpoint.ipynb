{
 "cells": [
  {
   "cell_type": "markdown",
   "metadata": {},
   "source": [
    "# Make parameter sweep submission script for use on HPC using Multiple Serial\n",
    "\n",
    "Only go up to $T=500$ days, as we only want the initial gradient of $\\mathbb{V}(h)$. Look at loci of constant copy number for all parametrizations.\n",
    "\n",
    "Author: Juvid Aryaman\n",
    "\n",
    "Date: 06/09/17"
   ]
  },
  {
   "cell_type": "code",
   "execution_count": 1,
   "metadata": {},
   "outputs": [
    {
     "name": "stdout",
     "output_type": "stream",
     "text": [
      "/home/juvid/Dropbox/Work/Mit_and_Metabolism/Networks_mtDNA_dynamics/Stochastic_sim/Closed_loop_control/Singleton_birth_fus/const_fus/Param_sweeps/100_params\r\n"
     ]
    }
   ],
   "source": [
    "!pwd"
   ]
  },
  {
   "cell_type": "code",
   "execution_count": 2,
   "metadata": {},
   "outputs": [],
   "source": [
    "import numpy as np\n",
    "import pandas as pd\n",
    "import sing_birth_fus_utils_ap as utls\n",
    "import pdb\n",
    "\n",
    "%reload_ext autoreload\n",
    "%autoreload 2"
   ]
  },
  {
   "cell_type": "markdown",
   "metadata": {},
   "source": [
    "Paramter ordering convention: xi, beta, gamma, kappa, b, mu, delta"
   ]
  },
  {
   "cell_type": "code",
   "execution_count": 3,
   "metadata": {
    "collapsed": true
   },
   "outputs": [],
   "source": [
    "nominal_param = (0.0,\n",
    " 33.120000000000005,\n",
    " 0.03785142857142858,\n",
    " 11.662903457629223,\n",
    " 1.2416523075924095e-05,\n",
    " 0.023,\n",
    " 1.0)\n",
    "xi, beta, gamma, kappa, b, mu, delta = nominal_param"
   ]
  },
  {
   "cell_type": "code",
   "execution_count": 4,
   "metadata": {
    "collapsed": true
   },
   "outputs": [],
   "source": [
    "work_dir = '/work/ja1109/networks/sing_birth_fus/param_sweep/100_param' # directory on the HPC where everything will be"
   ]
  },
  {
   "cell_type": "markdown",
   "metadata": {},
   "source": [
    "Define magnitudes and ratios for ($\\beta, \\gamma$). Let $M$ be magnitude and $R$ be ratio, then $\\beta'=\\beta M$ and $\\gamma' = \\beta' R_0 R$ where $R_0 = \\gamma/\\beta$. Then this implies $\\gamma'=\\gamma M R$."
   ]
  },
  {
   "cell_type": "code",
   "execution_count": 5,
   "metadata": {},
   "outputs": [
    {
     "data": {
      "text/plain": [
       "array([-2. , -1.6, -1.2, -0.8, -0.4,  0. ,  0.4,  0.8,  1.2,  1.6,  2. ])"
      ]
     },
     "execution_count": 5,
     "metadata": {},
     "output_type": "execute_result"
    }
   ],
   "source": [
    "n_points = 11\n",
    "lg_ls_low_churn = -2\n",
    "lg_ls_high_churn = 2\n",
    "\n",
    "lg_ls_low_rat = -2\n",
    "lg_ls_high_rat = 2\n",
    "\n",
    "mags = 10**np.linspace(lg_ls_low_churn,lg_ls_high_churn,n_points) # magnitudes of the fusion/fission rate\n",
    "rats = 10**np.linspace(lg_ls_low_rat,lg_ls_high_rat,n_points) # ratios of the fusion/fission rate\n",
    "\n",
    "np.log10(mags)"
   ]
  },
  {
   "cell_type": "code",
   "execution_count": 6,
   "metadata": {
    "collapsed": true
   },
   "outputs": [],
   "source": [
    "rat_nominal = nominal_param[2]/nominal_param[1]"
   ]
  },
  {
   "cell_type": "code",
   "execution_count": 7,
   "metadata": {},
   "outputs": [
    {
     "data": {
      "text/plain": [
       "array([-2. , -1.8, -1.6, -1.4, -1.2, -1. , -0.8, -0.6, -0.4, -0.2,  0. ,\n",
       "        0.2,  0.4,  0.6,  0.8,  1. ,  1.2,  1.4,  1.6,  1.8,  2. ])"
      ]
     },
     "execution_count": 7,
     "metadata": {},
     "output_type": "execute_result"
    }
   ],
   "source": [
    "mags_b = 10**np.linspace(-2,2,21) # due to copy number explosion of ~10^5, restrict range for b\n",
    "np.log10(mags_b)"
   ]
  },
  {
   "cell_type": "code",
   "execution_count": 8,
   "metadata": {},
   "outputs": [],
   "source": [
    "bs = nominal_param[4]*mags_b\n",
    "\n",
    "n_params_settings_1 = len(mags)*len(rats) # number of parameter settings in the first sweep"
   ]
  },
  {
   "cell_type": "code",
   "execution_count": 9,
   "metadata": {
    "collapsed": true
   },
   "outputs": [],
   "source": [
    "n_iters_per_block = 1000 # multiply by NREPEATS in the .c script for the total number of iterations\n",
    "#n_iters_per_block = 5"
   ]
  },
  {
   "cell_type": "code",
   "execution_count": 10,
   "metadata": {},
   "outputs": [
    {
     "name": "stdout",
     "output_type": "stream",
     "text": [
      "582071\n"
     ]
    }
   ],
   "source": [
    "initial_seed = np.round(np.random.uniform()*1e6).astype(int)\n",
    "print(initial_seed)"
   ]
  },
  {
   "cell_type": "markdown",
   "metadata": {},
   "source": [
    "Create first set of parameter sweeps over ($\\beta$,$\\gamma$) at constant ($\\kappa$,$b$)."
   ]
  },
  {
   "cell_type": "code",
   "execution_count": 11,
   "metadata": {
    "collapsed": true
   },
   "outputs": [],
   "source": [
    "h_target = 0.3"
   ]
  },
  {
   "cell_type": "code",
   "execution_count": 12,
   "metadata": {
    "collapsed": true
   },
   "outputs": [],
   "source": [
    "time_per_job = '20:00:00' # Based on max churn taking 20s for 10 days. For 500 days, 10 iters and x10 safety"
   ]
  },
  {
   "cell_type": "markdown",
   "metadata": {},
   "source": [
    "Submission protocol\n",
    "\n",
    "On local machine\n",
    "\n",
    "`$python Make_submission_param_sweep.py` \n",
    "\n",
    "(do this locally because some work must be done to find the right settings)\n",
    "\n",
    "`$rsyncr * hpc:$PBS_O_WORKDIR`\n",
    "\n",
    "where `$PBS_O_WORKDIR` is the directory where you run the script from.\n",
    "\n",
    "`$gcc -o3 closed_loop_deg_single.c -lm -o closed_loop_deg_single.ce`\n",
    "\n",
    "`$bash master.sh`"
   ]
  },
  {
   "cell_type": "code",
   "execution_count": 13,
   "metadata": {
    "collapsed": true
   },
   "outputs": [],
   "source": [
    "def make_submission_string(initial_seed, param_block, n_iters_per_block, ics, new_param):\n",
    "    submission_string = './closed_loop_deg_single.ce {0} {1} {2} $PBS_ARRAY_INDEX'.format(initial_seed,\n",
    "                                                                                             param_block,\n",
    "                                                                                             n_iters_per_block)     \n",
    "    for ic in ics:\n",
    "        submission_string+=' '+str(ic)\n",
    "\n",
    "    for p in new_param:\n",
    "        submission_string+=' {}'.format(p)\n",
    "    \n",
    "    submission_string+='\\n'\n",
    "\n",
    "    return submission_string"
   ]
  },
  {
   "cell_type": "code",
   "execution_count": 14,
   "metadata": {},
   "outputs": [],
   "source": [
    "def make_submission_script(param_block,time_per_job,n_iters_per_block,initial_seed,ics,new_param):\n",
    "    f = open('submission_{}.pbs'.format(param_block),'w')\n",
    "    f.write('#!/bin/sh\\n')\n",
    "    f.write('#PBS -N CLC_SW_{}\\n'.format(param_block))\n",
    "    f.write('#PBS -l walltime={}\\n'.format(time_per_job))\n",
    "    f.write('#PBS -l select=1:ncpus=1:mem=1gb\\n')\n",
    "    f.write('#PBS -J 0-{}\\n'.format(n_iters_per_block - 1))\n",
    "    \n",
    "    f.write('cp $PBS_O_WORKDIR/closed_loop_deg_single.ce $TMPDIR\\n')\n",
    "    \n",
    "    submission_string = make_submission_string(initial_seed, param_block, n_iters_per_block, ics, new_param)\n",
    "      \n",
    "    f.write(submission_string) \n",
    "    f.write('cp output_{0}_$PBS_ARRAY_INDEX.txt $PBS_O_WORKDIR/p{0:03d}\\n'.format(param_block))\n",
    "    \n",
    "    # clean up -- have a file number quota\n",
    "    f.write('sleep 10\\n')\n",
    "    f.write('rm $PBS_O_WORKDIR/CLC_SW_*\\n')\n",
    "    f.close()"
   ]
  },
  {
   "cell_type": "markdown",
   "metadata": {},
   "source": [
    "Define a space over which to search $\\kappa$ so we can find the steady state copy number"
   ]
  },
  {
   "cell_type": "code",
   "execution_count": 15,
   "metadata": {},
   "outputs": [
    {
     "data": {
      "text/plain": [
       "array([-1000.,  -999.,  -998.,  -997.,  -996.])"
      ]
     },
     "execution_count": 15,
     "metadata": {},
     "output_type": "execute_result"
    }
   ],
   "source": [
    "kappa_space = np.linspace(-1000,5000,6001)\n",
    "kappa_space[:5]"
   ]
  },
  {
   "cell_type": "code",
   "execution_count": 16,
   "metadata": {
    "collapsed": true
   },
   "outputs": [],
   "source": [
    "n_target = 1000 # target copy number"
   ]
  },
  {
   "cell_type": "code",
   "execution_count": 17,
   "metadata": {
    "collapsed": true
   },
   "outputs": [],
   "source": [
    "param_cols = ['xi', 'beta', 'gamma', 'kappa', 'b', 'mu', 'delta', \n",
    "              'net_mag','net_rat',\n",
    "              'h_init','n_target','ws_init','ms_init','wf_init','mf_init']"
   ]
  },
  {
   "cell_type": "code",
   "execution_count": 18,
   "metadata": {},
   "outputs": [],
   "source": [
    "param_df = pd.DataFrame(columns=param_cols)"
   ]
  },
  {
   "cell_type": "markdown",
   "metadata": {},
   "source": [
    "## IMPORTANT\n",
    "\n",
    "It doesn't matter if some of the values from `get_ss_main(ms, xi, gamma, beta, kappa, b, mu, delta)` are negative. This is because $\\delta=1$, so m_s is a parameter which tracks along the SS line at constant total copy numnber. For some regions on the SS line, all species are positive, but that doesn't necessarily correspond to m_s = 250, which is the dummy value we dump into the line of SSs. So we're assuming/hoping that a region exists for some m_s with positive species. I should ALWAYS check $\\mathbb{E}(n)$. The line `np.any(ics < 0)` will check all is well."
   ]
  },
  {
   "cell_type": "code",
   "execution_count": 19,
   "metadata": {
    "scrolled": true
   },
   "outputs": [
    {
     "name": "stdout",
     "output_type": "stream",
     "text": [
      "(0, 0, 0)\n",
      "(1, 0, 1)\n",
      "(2, 0, 2)\n",
      "(3, 0, 3)\n",
      "(4, 0, 4)\n",
      "(5, 0, 5)\n",
      "(6, 0, 6)\n",
      "(7, 0, 7)\n",
      "(8, 0, 8)\n",
      "(9, 0, 9)\n",
      "(10, 0, 10)\n",
      "(11, 1, 0)\n",
      "(12, 1, 1)\n",
      "(13, 1, 2)\n",
      "(14, 1, 3)\n",
      "(15, 1, 4)\n",
      "(16, 1, 5)\n",
      "(17, 1, 6)\n",
      "(18, 1, 7)\n",
      "(19, 1, 8)\n",
      "(20, 1, 9)\n",
      "(21, 1, 10)\n",
      "(22, 2, 0)\n",
      "(23, 2, 1)\n",
      "(24, 2, 2)\n",
      "(25, 2, 3)\n",
      "(26, 2, 4)\n",
      "(27, 2, 5)\n",
      "(28, 2, 6)\n",
      "(29, 2, 7)\n",
      "(30, 2, 8)\n",
      "(31, 2, 9)\n",
      "(32, 2, 10)\n",
      "(33, 3, 0)\n",
      "(34, 3, 1)\n",
      "(35, 3, 2)\n",
      "(36, 3, 3)\n",
      "(37, 3, 4)\n",
      "(38, 3, 5)\n",
      "(39, 3, 6)\n",
      "(40, 3, 7)\n",
      "(41, 3, 8)\n",
      "(42, 3, 9)\n",
      "(43, 3, 10)\n",
      "(44, 4, 0)\n"
     ]
    },
    {
     "name": "stderr",
     "output_type": "stream",
     "text": [
      "sing_birth_fus_utils_ap.py:69: RuntimeWarning: invalid value encountered in sqrt\n",
      "  b**2*(beta**2 - 4*(-1 + delta)*gamma*ms*mu*(-1 + xi) + 2*beta*(gamma*kappa + 3*mu - mu*xi) + (gamma*kappa + mu + mu*xi)**2)))/\\\n",
      "sing_birth_fus_utils_ap.py:73: RuntimeWarning: invalid value encountered in sqrt\n",
      "  b**2*(beta**2 - 4*(-1 + delta)*gamma*ms*mu*(-1 + xi) + 2*beta*(gamma*kappa + 3*mu - mu*xi) + (gamma*kappa + mu + mu*xi)**2))\n",
      "sing_birth_fus_utils_ap.py:88: RuntimeWarning: invalid value encountered in sqrt\n",
      "  b**2*(beta**2 - 4*(-1 + delta)*gamma*ms*mu*(-1 + xi) + 2*beta*(gamma*kappa + 3*mu - mu*xi) + (gamma*kappa + mu + mu*xi)**2))\\\n"
     ]
    },
    {
     "name": "stdout",
     "output_type": "stream",
     "text": [
      "(45, 4, 1)\n",
      "(46, 4, 2)\n",
      "(47, 4, 3)\n",
      "(48, 4, 4)\n",
      "(49, 4, 5)\n",
      "(50, 4, 6)\n",
      "(51, 4, 7)\n",
      "(52, 4, 8)\n",
      "(53, 4, 9)\n",
      "(54, 4, 10)\n",
      "(55, 5, 0)\n",
      "(56, 5, 1)\n",
      "(57, 5, 2)\n",
      "(58, 5, 3)\n",
      "(59, 5, 4)\n",
      "(60, 5, 5)\n",
      "(61, 5, 6)\n",
      "(62, 5, 7)\n",
      "(63, 5, 8)\n",
      "(64, 5, 9)\n",
      "(65, 5, 10)\n",
      "(66, 6, 0)\n",
      "(67, 6, 1)\n",
      "(68, 6, 2)\n",
      "(69, 6, 3)\n",
      "(70, 6, 4)\n",
      "(71, 6, 5)\n",
      "(72, 6, 6)\n",
      "(73, 6, 7)\n",
      "(74, 6, 8)\n",
      "(75, 6, 9)\n",
      "(76, 6, 10)\n",
      "(77, 7, 0)\n",
      "(78, 7, 1)\n",
      "(79, 7, 2)\n",
      "(80, 7, 3)\n",
      "(81, 7, 4)\n",
      "(82, 7, 5)\n",
      "(83, 7, 6)\n",
      "(84, 7, 7)\n",
      "(85, 7, 8)\n",
      "(86, 7, 9)\n",
      "(87, 7, 10)\n",
      "(88, 8, 0)\n",
      "(89, 8, 1)\n",
      "(90, 8, 2)\n",
      "(91, 8, 3)\n",
      "(92, 8, 4)\n",
      "(93, 8, 5)\n",
      "(94, 8, 6)\n",
      "(95, 8, 7)\n",
      "(96, 8, 8)\n",
      "(97, 8, 9)\n",
      "(98, 8, 10)\n",
      "(99, 9, 0)\n",
      "(100, 9, 1)\n",
      "(101, 9, 2)\n",
      "(102, 9, 3)\n",
      "(103, 9, 4)\n",
      "(104, 9, 5)\n",
      "(105, 9, 6)\n",
      "(106, 9, 7)\n",
      "(107, 9, 8)\n",
      "(108, 9, 9)\n",
      "(109, 9, 10)\n",
      "(110, 10, 0)\n",
      "(111, 10, 1)\n",
      "(112, 10, 2)\n",
      "(113, 10, 3)\n",
      "(114, 10, 4)\n",
      "(115, 10, 5)\n",
      "(116, 10, 6)\n",
      "(117, 10, 7)\n",
      "(118, 10, 8)\n",
      "(119, 10, 9)\n",
      "(120, 10, 10)\n"
     ]
    }
   ],
   "source": [
    "master_script = open('master.sh','w')\n",
    "for i, ratio in enumerate(rats):\n",
    "    for j, mag in enumerate(mags):\n",
    "        \n",
    "        submit_flag = False # assume we should not submit this parametrization\n",
    "        \n",
    "        param_block = len(mags)*i+j\n",
    "        \n",
    "        newbeta = beta * mag # beta'\n",
    "        newgamma = newbeta * rat_nominal * ratio # gamma'\n",
    "        \n",
    "        new_param = [k for k in nominal_param]\n",
    "        new_param[1] = newbeta\n",
    "        new_param[2] = newgamma\n",
    "        \n",
    "        # Find kappa for copy number\n",
    "        res = utls.residual_n_manual(n_target, 250, xi, newgamma, newbeta, kappa_space, b, mu, delta, 1000.0)\n",
    "        if np.min(res) < 0:\n",
    "            index = np.argmin(res)\n",
    "            newkappa = kappa_space[index]\n",
    "            \n",
    "            # The proposed value of kappa is ok\n",
    "            new_param[3] = newkappa\n",
    "            submit_flag = True\n",
    "            \n",
    "            # Uncomment the following code if you want to put a check on the Jacobian matrix\n",
    "            # Check the origin is repelling\n",
    "            # J = utls.jacobian_matrix(xi, newgamma, newbeta, newkappa, b, mu, delta, 0, 0, 0, 0)\n",
    "            # evals, evecs = np.linalg.eig(J)\n",
    "            # if np.sign(np.max(evals)) < 0:\n",
    "            #     print(param_block,i,j,np.min(res), kappa_space[np.argmin(res)],'origin attracting') \n",
    "            #     new_param[3] = newkappa\n",
    "\n",
    "            # else: # the parametrization is ok, store the kappa\n",
    "            #     new_param[3] = newkappa\n",
    "            #     submit_flag = True\n",
    "        else:\n",
    "            print(param_block,i,j,np.min(res), kappa_space[np.argmin(res)],'no kappa')            \n",
    "            continue\n",
    "        \n",
    "        # Find ICs for heteroplasmy\n",
    "        # Ordering convention: ws, ms, wf, mf\n",
    "        ics = utls.get_ic(h_target, xi, newgamma, newbeta, newkappa, b, mu, delta)\n",
    "        ics = np.round(ics).astype(int)\n",
    "        \n",
    "        if np.any(ics < 0) or abs(np.sum(ics)-1000.0)>2:\n",
    "            raise Exception('Bad ICs!')\n",
    "        \n",
    "        #if np.any(ics == 0):\n",
    "            #print(param_block,i,j,'ignore')\n",
    "            #continue\n",
    "        \n",
    "        param_df = param_df.append(pd.DataFrame([np.hstack((new_param,(mag,ratio,h_target,n_target),ics))],columns=param_cols))\n",
    "        \n",
    "        if submit_flag:\n",
    "            make_submission_script(param_block,time_per_job,n_iters_per_block,initial_seed,ics,new_param)\n",
    "\n",
    "            master_script.write('echo \"{}\"\\n'.format(param_block))\n",
    "            master_script.write('mkdir -p {0}/p{1:03d}\\n'.format(work_dir,param_block))\n",
    "            master_script.write(\"qsub submission_{}.pbs\\n\".format(param_block))\n",
    "            master_script.write('sleep 0.5\\n')\n",
    "            print(param_block,i,j)\n",
    "        else:\n",
    "            s = make_submission_string(initial_seed, param_block, n_iters_per_block, ics, new_param)\n",
    "            print(s)\n",
    "            \n",
    "master_script.close()\n",
    "param_df.reset_index(inplace=True, drop=True)        "
   ]
  },
  {
   "cell_type": "markdown",
   "metadata": {},
   "source": [
    "Append onto the master script the $b$ at constant ($\\beta$,$\\gamma$) sweep"
   ]
  },
  {
   "cell_type": "code",
   "execution_count": 20,
   "metadata": {
    "collapsed": true
   },
   "outputs": [],
   "source": [
    "time_per_job = '02:00:00' "
   ]
  },
  {
   "cell_type": "code",
   "execution_count": 21,
   "metadata": {
    "scrolled": true
   },
   "outputs": [
    {
     "name": "stdout",
     "output_type": "stream",
     "text": [
      "(121, 0, 10, 'Ignore no kappa', -1000.0, 10.521846174808456)\n",
      "(122, 1, 10, 'Ignore no kappa', -1000.0, 10.113764499820167)\n",
      "(123, 2, 10, 'Ignore no kappa', -1000.0, 9.7007658294181223)\n",
      "(124, 3, 10, 'Ignore no kappa', -1000.0, 9.2796669748564664)\n",
      "(125, 4, 10, 'Ignore no kappa', -1000.0, 8.8448920259208048)\n",
      "(126, 5, 10, 'Ignore no kappa', -1000.0, 8.3860273618621903)\n",
      "(127, 6, 10, 'Ignore no kappa', -1000.0, 7.8813055793303226)\n",
      "(128, 7, 10, 'Ignore no kappa', -1000.0, 7.2740904824195862)\n",
      "(129, 8, 10, 'Ignore no kappa', -1000.0, 6.3022483924526025)\n",
      "(130, 9, 10, 'Ignore no kappa', -566.0, 0.37260106701832563)\n",
      "(131, 10, 10, 1001, array([327, 140, 374, 160]))\n",
      "(132, 11, 10, 999, array([326, 140, 373, 160]))\n",
      "(133, 12, 10, 1001, array([327, 140, 374, 160]))\n",
      "(134, 13, 10, 1001, array([327, 140, 374, 160]))\n",
      "(135, 14, 10, 999, array([326, 140, 373, 160]))\n",
      "(136, 15, 10, 999, array([326, 140, 373, 160]))\n",
      "(137, 16, 10, 1001, array([327, 140, 374, 160]))\n",
      "(138, 17, 10, 1001, array([327, 140, 374, 160]))\n",
      "(139, 18, 10, 999, array([326, 140, 373, 160]))\n",
      "(140, 19, 10, 999, array([326, 140, 373, 160]))\n",
      "(141, 20, 10, 999, array([326, 140, 373, 160]))\n"
     ]
    }
   ],
   "source": [
    "master_script = open('master.sh','a')\n",
    "for i, bi in enumerate(bs):\n",
    "    submit_flag = False\n",
    "\n",
    "    param_block = n_params_settings_1 + i\n",
    "\n",
    "    new_param = [k for k in nominal_param]\n",
    "    \n",
    "    new_param[4] = bi\n",
    "\n",
    "        \n",
    "    # Find kappa for copy number\n",
    "    res = utls.residual_n_manual(n_target, 250, xi, gamma, beta, kappa_space, bi, mu, delta, 1000.0)\n",
    "    if np.min(res) < 0:\n",
    "        index = np.argmin(res)\n",
    "        newkappa = kappa_space[index]\n",
    "\n",
    "        # The proposed value of kappa is ok\n",
    "        new_param[3] = newkappa\n",
    "        submit_flag = True\n",
    "    \n",
    "\n",
    "    # if np.any(ics == 0):\n",
    "    #     print(param_block,i,j,'ignore')\n",
    "    #     continue\n",
    "    \n",
    "    if submit_flag:\n",
    "        # Ordering convention: ws, ms, wf, mf\n",
    "        ics = utls.get_ic(h_target, xi, gamma, beta, newkappa, bi, mu, delta)\n",
    "        ics = np.round(ics).astype(int)\n",
    "\n",
    "\n",
    "        make_submission_script(param_block,time_per_job,n_iters_per_block,initial_seed,ics,new_param)     \n",
    "\n",
    "        print(param_block,i,j, np.sum(ics), ics)  \n",
    "\n",
    "        master_script.write('echo \"{}\"\\n'.format(param_block))\n",
    "        master_script.write('mkdir -p {0}/p{1:03d}\\n'.format(work_dir,param_block))\n",
    "        master_script.write(\"qsub submission_{}.pbs\\n\".format(param_block))\n",
    "        master_script.write('sleep 0.5\\n')\n",
    "        param_df = param_df.append(pd.DataFrame([np.hstack((new_param,(np.nan,np.nan,h_target,n_target),ics))],columns=param_cols))\n",
    "\n",
    "    else:\n",
    "        param_df = param_df.append(pd.DataFrame([np.hstack((new_param,(np.nan,np.nan,h_target,n_target),ics))],columns=param_cols))\n",
    "        print(param_block,i,j, 'Ignore no kappa', kappa_space[np.argmin(res)], np.min(res))  \n",
    "        \n",
    "master_script.close()\n",
    "param_df.reset_index(inplace=True,drop=True)\n"
   ]
  },
  {
   "cell_type": "code",
   "execution_count": 22,
   "metadata": {
    "collapsed": true
   },
   "outputs": [],
   "source": [
    "param_df.to_csv('param_sweep_vals.csv',index=False)"
   ]
  }
 ],
 "metadata": {
  "kernelspec": {
   "display_name": "Python 2",
   "language": "python",
   "name": "python2"
  },
  "language_info": {
   "codemirror_mode": {
    "name": "ipython",
    "version": 2
   },
   "file_extension": ".py",
   "mimetype": "text/x-python",
   "name": "python",
   "nbconvert_exporter": "python",
   "pygments_lexer": "ipython2",
   "version": "2.7.14"
  }
 },
 "nbformat": 4,
 "nbformat_minor": 2
}
