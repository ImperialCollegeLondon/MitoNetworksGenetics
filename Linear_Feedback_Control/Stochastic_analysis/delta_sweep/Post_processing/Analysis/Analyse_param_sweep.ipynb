{
 "cells": [
  {
   "cell_type": "markdown",
   "metadata": {},
   "source": [
    "# Analyse $\\delta$ sweep of network system\n",
    "\n",
    "Author: Juvid Aryaman\n"
   ]
  },
  {
   "cell_type": "code",
   "execution_count": 1,
   "metadata": {},
   "outputs": [],
   "source": [
    "import mitonetworks.det as mtd\n",
    "import mitonetworks.stoch as mts\n",
    "import pandas as pd\n",
    "import numpy as np\n",
    "import matplotlib.pyplot as plt\n",
    "\n",
    "import warnings"
   ]
  },
  {
   "cell_type": "code",
   "execution_count": 2,
   "metadata": {},
   "outputs": [],
   "source": [
    "warnings.simplefilter(\"ignore\", UserWarning) # when generating svg's get lots of useless UserWarnings, so suppress them"
   ]
  },
  {
   "cell_type": "code",
   "execution_count": 3,
   "metadata": {},
   "outputs": [],
   "source": [
    "%reload_ext autoreload\n",
    "%autoreload 2\n",
    "%matplotlib inline"
   ]
  },
  {
   "cell_type": "code",
   "execution_count": 4,
   "metadata": {},
   "outputs": [],
   "source": [
    "mts.reset_plots()"
   ]
  },
  {
   "cell_type": "markdown",
   "metadata": {},
   "source": [
    "# Process $\\delta$ sweep"
   ]
  },
  {
   "cell_type": "code",
   "execution_count": 5,
   "metadata": {},
   "outputs": [
    {
     "data": {
      "text/html": [
       "<div>\n",
       "<style scoped>\n",
       "    .dataframe tbody tr th:only-of-type {\n",
       "        vertical-align: middle;\n",
       "    }\n",
       "\n",
       "    .dataframe tbody tr th {\n",
       "        vertical-align: top;\n",
       "    }\n",
       "\n",
       "    .dataframe thead th {\n",
       "        text-align: right;\n",
       "    }\n",
       "</style>\n",
       "<table border=\"1\" class=\"dataframe\">\n",
       "  <thead>\n",
       "    <tr style=\"text-align: right;\">\n",
       "      <th></th>\n",
       "      <th>xi</th>\n",
       "      <th>beta</th>\n",
       "      <th>gamma</th>\n",
       "      <th>kappa</th>\n",
       "      <th>b</th>\n",
       "      <th>mu</th>\n",
       "      <th>delta</th>\n",
       "      <th>h_target</th>\n",
       "      <th>ws_init</th>\n",
       "      <th>wf_init</th>\n",
       "      <th>ms_init</th>\n",
       "      <th>mf_init</th>\n",
       "    </tr>\n",
       "  </thead>\n",
       "  <tbody>\n",
       "    <tr>\n",
       "      <th>0</th>\n",
       "      <td>0.0</td>\n",
       "      <td>33.12</td>\n",
       "      <td>0.037851</td>\n",
       "      <td>0.0</td>\n",
       "      <td>0.000012</td>\n",
       "      <td>0.023</td>\n",
       "      <td>-5.00</td>\n",
       "      <td>0.10</td>\n",
       "      <td>639.0</td>\n",
       "      <td>2749.0</td>\n",
       "      <td>71.0</td>\n",
       "      <td>306.0</td>\n",
       "    </tr>\n",
       "    <tr>\n",
       "      <th>1</th>\n",
       "      <td>0.0</td>\n",
       "      <td>33.12</td>\n",
       "      <td>0.037851</td>\n",
       "      <td>0.0</td>\n",
       "      <td>0.000012</td>\n",
       "      <td>0.023</td>\n",
       "      <td>-1.00</td>\n",
       "      <td>0.30</td>\n",
       "      <td>497.0</td>\n",
       "      <td>2137.0</td>\n",
       "      <td>213.0</td>\n",
       "      <td>917.0</td>\n",
       "    </tr>\n",
       "    <tr>\n",
       "      <th>2</th>\n",
       "      <td>0.0</td>\n",
       "      <td>33.12</td>\n",
       "      <td>0.037851</td>\n",
       "      <td>0.0</td>\n",
       "      <td>0.000012</td>\n",
       "      <td>0.023</td>\n",
       "      <td>-0.10</td>\n",
       "      <td>0.45</td>\n",
       "      <td>367.0</td>\n",
       "      <td>1169.0</td>\n",
       "      <td>299.0</td>\n",
       "      <td>954.0</td>\n",
       "    </tr>\n",
       "    <tr>\n",
       "      <th>3</th>\n",
       "      <td>0.0</td>\n",
       "      <td>33.12</td>\n",
       "      <td>0.037851</td>\n",
       "      <td>0.0</td>\n",
       "      <td>0.000012</td>\n",
       "      <td>0.023</td>\n",
       "      <td>-0.01</td>\n",
       "      <td>0.45</td>\n",
       "      <td>357.0</td>\n",
       "      <td>1029.0</td>\n",
       "      <td>292.0</td>\n",
       "      <td>843.0</td>\n",
       "    </tr>\n",
       "    <tr>\n",
       "      <th>4</th>\n",
       "      <td>0.0</td>\n",
       "      <td>33.12</td>\n",
       "      <td>0.037851</td>\n",
       "      <td>0.0</td>\n",
       "      <td>0.000012</td>\n",
       "      <td>0.023</td>\n",
       "      <td>0.01</td>\n",
       "      <td>0.45</td>\n",
       "      <td>355.0</td>\n",
       "      <td>1001.0</td>\n",
       "      <td>290.0</td>\n",
       "      <td>818.0</td>\n",
       "    </tr>\n",
       "    <tr>\n",
       "      <th>5</th>\n",
       "      <td>0.0</td>\n",
       "      <td>33.12</td>\n",
       "      <td>0.037851</td>\n",
       "      <td>0.0</td>\n",
       "      <td>0.000012</td>\n",
       "      <td>0.023</td>\n",
       "      <td>0.10</td>\n",
       "      <td>0.45</td>\n",
       "      <td>346.0</td>\n",
       "      <td>886.0</td>\n",
       "      <td>283.0</td>\n",
       "      <td>725.0</td>\n",
       "    </tr>\n",
       "    <tr>\n",
       "      <th>6</th>\n",
       "      <td>0.0</td>\n",
       "      <td>33.12</td>\n",
       "      <td>0.037851</td>\n",
       "      <td>0.0</td>\n",
       "      <td>0.000012</td>\n",
       "      <td>0.023</td>\n",
       "      <td>1.00</td>\n",
       "      <td>0.30</td>\n",
       "      <td>323.0</td>\n",
       "      <td>362.0</td>\n",
       "      <td>138.0</td>\n",
       "      <td>155.0</td>\n",
       "    </tr>\n",
       "    <tr>\n",
       "      <th>7</th>\n",
       "      <td>0.0</td>\n",
       "      <td>33.12</td>\n",
       "      <td>0.037851</td>\n",
       "      <td>0.0</td>\n",
       "      <td>0.000012</td>\n",
       "      <td>0.023</td>\n",
       "      <td>1.50</td>\n",
       "      <td>0.45</td>\n",
       "      <td>203.0</td>\n",
       "      <td>148.0</td>\n",
       "      <td>166.0</td>\n",
       "      <td>121.0</td>\n",
       "    </tr>\n",
       "    <tr>\n",
       "      <th>8</th>\n",
       "      <td>0.0</td>\n",
       "      <td>33.12</td>\n",
       "      <td>0.037851</td>\n",
       "      <td>0.0</td>\n",
       "      <td>0.000012</td>\n",
       "      <td>0.023</td>\n",
       "      <td>2.00</td>\n",
       "      <td>0.20</td>\n",
       "      <td>303.0</td>\n",
       "      <td>232.0</td>\n",
       "      <td>76.0</td>\n",
       "      <td>58.0</td>\n",
       "    </tr>\n",
       "  </tbody>\n",
       "</table>\n",
       "</div>"
      ],
      "text/plain": [
       "    xi   beta     gamma  kappa         b     mu  delta  h_target  ws_init  \\\n",
       "0  0.0  33.12  0.037851    0.0  0.000012  0.023  -5.00      0.10    639.0   \n",
       "1  0.0  33.12  0.037851    0.0  0.000012  0.023  -1.00      0.30    497.0   \n",
       "2  0.0  33.12  0.037851    0.0  0.000012  0.023  -0.10      0.45    367.0   \n",
       "3  0.0  33.12  0.037851    0.0  0.000012  0.023  -0.01      0.45    357.0   \n",
       "4  0.0  33.12  0.037851    0.0  0.000012  0.023   0.01      0.45    355.0   \n",
       "5  0.0  33.12  0.037851    0.0  0.000012  0.023   0.10      0.45    346.0   \n",
       "6  0.0  33.12  0.037851    0.0  0.000012  0.023   1.00      0.30    323.0   \n",
       "7  0.0  33.12  0.037851    0.0  0.000012  0.023   1.50      0.45    203.0   \n",
       "8  0.0  33.12  0.037851    0.0  0.000012  0.023   2.00      0.20    303.0   \n",
       "\n",
       "   wf_init  ms_init  mf_init  \n",
       "0   2749.0     71.0    306.0  \n",
       "1   2137.0    213.0    917.0  \n",
       "2   1169.0    299.0    954.0  \n",
       "3   1029.0    292.0    843.0  \n",
       "4   1001.0    290.0    818.0  \n",
       "5    886.0    283.0    725.0  \n",
       "6    362.0    138.0    155.0  \n",
       "7    148.0    166.0    121.0  \n",
       "8    232.0     76.0     58.0  "
      ]
     },
     "execution_count": 5,
     "metadata": {},
     "output_type": "execute_result"
    }
   ],
   "source": [
    "param_sw_vals = pd.read_csv('../../Make_sweep_vals/delta_sw_params.csv')\n",
    "param_sw_vals"
   ]
  },
  {
   "cell_type": "code",
   "execution_count": 6,
   "metadata": {},
   "outputs": [],
   "source": [
    "analysis = mts.AnalyseDataFeedbackControl(dir_df_params=\"../../Make_sweep_vals/delta_sw_params.csv\",dir_data=\"../Data/\",ctrl_name=\"lfc\")"
   ]
  },
  {
   "cell_type": "code",
   "execution_count": 7,
   "metadata": {},
   "outputs": [],
   "source": [
    "analysis.make_gradients()\n",
    "analysis.compute_errors()"
   ]
  },
  {
   "cell_type": "code",
   "execution_count": 8,
   "metadata": {},
   "outputs": [
    {
     "data": {
      "text/html": [
       "<div>\n",
       "<style scoped>\n",
       "    .dataframe tbody tr th:only-of-type {\n",
       "        vertical-align: middle;\n",
       "    }\n",
       "\n",
       "    .dataframe tbody tr th {\n",
       "        vertical-align: top;\n",
       "    }\n",
       "\n",
       "    .dataframe thead th {\n",
       "        text-align: right;\n",
       "    }\n",
       "</style>\n",
       "<table border=\"1\" class=\"dataframe\">\n",
       "  <thead>\n",
       "    <tr style=\"text-align: right;\">\n",
       "      <th></th>\n",
       "      <th>block_idx</th>\n",
       "      <th>grad_vh_sim</th>\n",
       "      <th>grad_vh_ansatz</th>\n",
       "      <th>error_sim_ansatz</th>\n",
       "    </tr>\n",
       "  </thead>\n",
       "  <tbody>\n",
       "    <tr>\n",
       "      <th>0</th>\n",
       "      <td>0</td>\n",
       "      <td>2.083715e-07</td>\n",
       "      <td>2.076065e-07</td>\n",
       "      <td>0.003671</td>\n",
       "    </tr>\n",
       "    <tr>\n",
       "      <th>1</th>\n",
       "      <td>1</td>\n",
       "      <td>4.837010e-07</td>\n",
       "      <td>4.842972e-07</td>\n",
       "      <td>0.001233</td>\n",
       "    </tr>\n",
       "    <tr>\n",
       "      <th>2</th>\n",
       "      <td>2</td>\n",
       "      <td>9.796380e-07</td>\n",
       "      <td>9.744965e-07</td>\n",
       "      <td>0.005248</td>\n",
       "    </tr>\n",
       "    <tr>\n",
       "      <th>3</th>\n",
       "      <td>3</td>\n",
       "      <td>1.158579e-06</td>\n",
       "      <td>1.162707e-06</td>\n",
       "      <td>0.003562</td>\n",
       "    </tr>\n",
       "    <tr>\n",
       "      <th>4</th>\n",
       "      <td>4</td>\n",
       "      <td>1.212679e-06</td>\n",
       "      <td>1.209356e-06</td>\n",
       "      <td>0.002740</td>\n",
       "    </tr>\n",
       "    <tr>\n",
       "      <th>5</th>\n",
       "      <td>5</td>\n",
       "      <td>1.430362e-06</td>\n",
       "      <td>1.427209e-06</td>\n",
       "      <td>0.002204</td>\n",
       "    </tr>\n",
       "    <tr>\n",
       "      <th>6</th>\n",
       "      <td>6</td>\n",
       "      <td>4.673812e-06</td>\n",
       "      <td>4.652234e-06</td>\n",
       "      <td>0.004617</td>\n",
       "    </tr>\n",
       "    <tr>\n",
       "      <th>7</th>\n",
       "      <td>7</td>\n",
       "      <td>1.049520e-05</td>\n",
       "      <td>1.032026e-05</td>\n",
       "      <td>0.016669</td>\n",
       "    </tr>\n",
       "    <tr>\n",
       "      <th>8</th>\n",
       "      <td>8</td>\n",
       "      <td>6.334464e-06</td>\n",
       "      <td>6.239520e-06</td>\n",
       "      <td>0.014989</td>\n",
       "    </tr>\n",
       "  </tbody>\n",
       "</table>\n",
       "</div>"
      ],
      "text/plain": [
       "   block_idx   grad_vh_sim  grad_vh_ansatz  error_sim_ansatz\n",
       "0          0  2.083715e-07    2.076065e-07          0.003671\n",
       "1          1  4.837010e-07    4.842972e-07          0.001233\n",
       "2          2  9.796380e-07    9.744965e-07          0.005248\n",
       "3          3  1.158579e-06    1.162707e-06          0.003562\n",
       "4          4  1.212679e-06    1.209356e-06          0.002740\n",
       "5          5  1.430362e-06    1.427209e-06          0.002204\n",
       "6          6  4.673812e-06    4.652234e-06          0.004617\n",
       "7          7  1.049520e-05    1.032026e-05          0.016669\n",
       "8          8  6.334464e-06    6.239520e-06          0.014989"
      ]
     },
     "execution_count": 8,
     "metadata": {},
     "output_type": "execute_result"
    }
   ],
   "source": [
    "analysis.errors"
   ]
  },
  {
   "cell_type": "code",
   "execution_count": 9,
   "metadata": {},
   "outputs": [],
   "source": [
    "e = analysis.errors\n",
    "error_ansatz_delta = []\n",
    "successful_delta_sw_blocks = []\n",
    "worst_block = [-np.infty,-np.infty] # find param with biggest error\n",
    "for i in range(len(e)):\n",
    "    param_try = i\n",
    "    try:    \n",
    "        err_delta_val = np.log10(e.loc[e[\"block_idx\"]==param_try]['error_sim_ansatz'].values[0])\n",
    "        error_ansatz_delta.append(err_delta_val)\n",
    "        successful_delta_sw_blocks.append(param_try)        \n",
    "    except IndexError:\n",
    "        continue\n",
    "    if err_delta_val > worst_block[1]:\n",
    "            worst_block[0] = param_try\n",
    "            worst_block[1] = err_delta_val"
   ]
  },
  {
   "cell_type": "code",
   "execution_count": 10,
   "metadata": {},
   "outputs": [
    {
     "data": {
      "text/plain": [
       "[7, -1.7780829137739063]"
      ]
     },
     "execution_count": 10,
     "metadata": {},
     "output_type": "execute_result"
    }
   ],
   "source": [
    "worst_block"
   ]
  },
  {
   "cell_type": "code",
   "execution_count": 11,
   "metadata": {},
   "outputs": [],
   "source": [
    "param_df = pd.read_csv('../../Make_sweep_vals/delta_sw_params.csv')"
   ]
  },
  {
   "cell_type": "code",
   "execution_count": 12,
   "metadata": {},
   "outputs": [
    {
     "data": {
      "text/plain": [
       "(9, 9)"
      ]
     },
     "execution_count": 12,
     "metadata": {},
     "output_type": "execute_result"
    }
   ],
   "source": [
    "delta_vals_try = param_df.iloc[successful_delta_sw_blocks]['delta']\n",
    "len(delta_vals_try), len(error_ansatz_delta)"
   ]
  },
  {
   "cell_type": "code",
   "execution_count": 13,
   "metadata": {},
   "outputs": [
    {
     "data": {
      "text/html": [
       "<div>\n",
       "<style scoped>\n",
       "    .dataframe tbody tr th:only-of-type {\n",
       "        vertical-align: middle;\n",
       "    }\n",
       "\n",
       "    .dataframe tbody tr th {\n",
       "        vertical-align: top;\n",
       "    }\n",
       "\n",
       "    .dataframe thead th {\n",
       "        text-align: right;\n",
       "    }\n",
       "</style>\n",
       "<table border=\"1\" class=\"dataframe\">\n",
       "  <thead>\n",
       "    <tr style=\"text-align: right;\">\n",
       "      <th></th>\n",
       "      <th>block_idx</th>\n",
       "      <th>t</th>\n",
       "      <th>vh_sim</th>\n",
       "      <th>vh_ansatz</th>\n",
       "    </tr>\n",
       "  </thead>\n",
       "  <tbody>\n",
       "    <tr>\n",
       "      <th>357</th>\n",
       "      <td>7.0</td>\n",
       "      <td>0.0</td>\n",
       "      <td>0.000000</td>\n",
       "      <td>0.000000</td>\n",
       "    </tr>\n",
       "    <tr>\n",
       "      <th>358</th>\n",
       "      <td>7.0</td>\n",
       "      <td>10.0</td>\n",
       "      <td>0.000103</td>\n",
       "      <td>0.000103</td>\n",
       "    </tr>\n",
       "    <tr>\n",
       "      <th>359</th>\n",
       "      <td>7.0</td>\n",
       "      <td>20.0</td>\n",
       "      <td>0.000209</td>\n",
       "      <td>0.000206</td>\n",
       "    </tr>\n",
       "    <tr>\n",
       "      <th>360</th>\n",
       "      <td>7.0</td>\n",
       "      <td>30.0</td>\n",
       "      <td>0.000311</td>\n",
       "      <td>0.000310</td>\n",
       "    </tr>\n",
       "    <tr>\n",
       "      <th>361</th>\n",
       "      <td>7.0</td>\n",
       "      <td>40.0</td>\n",
       "      <td>0.000415</td>\n",
       "      <td>0.000413</td>\n",
       "    </tr>\n",
       "  </tbody>\n",
       "</table>\n",
       "</div>"
      ],
      "text/plain": [
       "     block_idx     t    vh_sim  vh_ansatz\n",
       "357        7.0   0.0  0.000000   0.000000\n",
       "358        7.0  10.0  0.000103   0.000103\n",
       "359        7.0  20.0  0.000209   0.000206\n",
       "360        7.0  30.0  0.000311   0.000310\n",
       "361        7.0  40.0  0.000415   0.000413"
      ]
     },
     "execution_count": 13,
     "metadata": {},
     "output_type": "execute_result"
    }
   ],
   "source": [
    "vh = pd.read_pickle('./lfc_vh') # heteroplasmy variance for all parametrizations\n",
    "worst_vh_profile = vh.loc[vh[\"block_idx\"]==worst_block[0]]\n",
    "worst_vh_profile.head()"
   ]
  },
  {
   "cell_type": "code",
   "execution_count": 14,
   "metadata": {},
   "outputs": [
    {
     "data": {
      "image/png": "[encoded data removed]",
      "text/plain": [
       "<Figure size 720x360 with 2 Axes>"
      ]
     },
     "metadata": {},
     "output_type": "display_data"
    }
   ],
   "source": [
    "fig, axs = plt.subplots(1,2, figsize=(2*5,5))\n",
    "\n",
    "ax = axs[0]\n",
    "ax.plot(delta_vals_try,error_ansatz_delta,'k.',label='Ansatz')\n",
    "ax.set_xlabel('Mutant relative control strength, $\\delta$')\n",
    "ax.set_ylabel('Log10 relative error')\n",
    "ax.plot(1.1*np.linspace(min(delta_vals_try),1.1*max(delta_vals_try)),np.log10(0.05)*np.ones(50),'--k')\n",
    "ax.set_ylim([-3,-1])\n",
    "\n",
    "\n",
    "\n",
    "ax = axs[1]\n",
    "ax.plot(worst_vh_profile['t'],worst_vh_profile['vh_sim'],'kx',label='Simulation')\n",
    "ax.plot(worst_vh_profile['t'],worst_vh_profile['vh_ansatz'],'-r',mfc='none',label='Ansatz')\n",
    "ax.legend(prop={'size':12})\n",
    "ax.set_xlabel('Time, (days)')\n",
    "ax.set_ylabel('Heteroplasmy variance, $\\mathbb{V}(h)$')\n",
    "\n",
    "\n",
    "\n",
    "plt.tight_layout()\n",
    "\n",
    "plt.savefig('error_delta_sweep.svg')\n"
   ]
  },
  {
   "cell_type": "code",
   "execution_count": 15,
   "metadata": {},
   "outputs": [
    {
     "data": {
      "text/html": [
       "<div>\n",
       "<style scoped>\n",
       "    .dataframe tbody tr th:only-of-type {\n",
       "        vertical-align: middle;\n",
       "    }\n",
       "\n",
       "    .dataframe tbody tr th {\n",
       "        vertical-align: top;\n",
       "    }\n",
       "\n",
       "    .dataframe thead th {\n",
       "        text-align: right;\n",
       "    }\n",
       "</style>\n",
       "<table border=\"1\" class=\"dataframe\">\n",
       "  <thead>\n",
       "    <tr style=\"text-align: right;\">\n",
       "      <th></th>\n",
       "      <th>xi</th>\n",
       "      <th>beta</th>\n",
       "      <th>gamma</th>\n",
       "      <th>kappa</th>\n",
       "      <th>b</th>\n",
       "      <th>mu</th>\n",
       "      <th>delta</th>\n",
       "      <th>h_target</th>\n",
       "      <th>ws_init</th>\n",
       "      <th>wf_init</th>\n",
       "      <th>ms_init</th>\n",
       "      <th>mf_init</th>\n",
       "    </tr>\n",
       "  </thead>\n",
       "  <tbody>\n",
       "    <tr>\n",
       "      <th>0</th>\n",
       "      <td>0.0</td>\n",
       "      <td>33.12</td>\n",
       "      <td>0.037851</td>\n",
       "      <td>0.0</td>\n",
       "      <td>0.000012</td>\n",
       "      <td>0.023</td>\n",
       "      <td>-5.00</td>\n",
       "      <td>0.10</td>\n",
       "      <td>639.0</td>\n",
       "      <td>2749.0</td>\n",
       "      <td>71.0</td>\n",
       "      <td>306.0</td>\n",
       "    </tr>\n",
       "    <tr>\n",
       "      <th>1</th>\n",
       "      <td>0.0</td>\n",
       "      <td>33.12</td>\n",
       "      <td>0.037851</td>\n",
       "      <td>0.0</td>\n",
       "      <td>0.000012</td>\n",
       "      <td>0.023</td>\n",
       "      <td>-1.00</td>\n",
       "      <td>0.30</td>\n",
       "      <td>497.0</td>\n",
       "      <td>2137.0</td>\n",
       "      <td>213.0</td>\n",
       "      <td>917.0</td>\n",
       "    </tr>\n",
       "    <tr>\n",
       "      <th>2</th>\n",
       "      <td>0.0</td>\n",
       "      <td>33.12</td>\n",
       "      <td>0.037851</td>\n",
       "      <td>0.0</td>\n",
       "      <td>0.000012</td>\n",
       "      <td>0.023</td>\n",
       "      <td>-0.10</td>\n",
       "      <td>0.45</td>\n",
       "      <td>367.0</td>\n",
       "      <td>1169.0</td>\n",
       "      <td>299.0</td>\n",
       "      <td>954.0</td>\n",
       "    </tr>\n",
       "    <tr>\n",
       "      <th>3</th>\n",
       "      <td>0.0</td>\n",
       "      <td>33.12</td>\n",
       "      <td>0.037851</td>\n",
       "      <td>0.0</td>\n",
       "      <td>0.000012</td>\n",
       "      <td>0.023</td>\n",
       "      <td>-0.01</td>\n",
       "      <td>0.45</td>\n",
       "      <td>357.0</td>\n",
       "      <td>1029.0</td>\n",
       "      <td>292.0</td>\n",
       "      <td>843.0</td>\n",
       "    </tr>\n",
       "    <tr>\n",
       "      <th>4</th>\n",
       "      <td>0.0</td>\n",
       "      <td>33.12</td>\n",
       "      <td>0.037851</td>\n",
       "      <td>0.0</td>\n",
       "      <td>0.000012</td>\n",
       "      <td>0.023</td>\n",
       "      <td>0.01</td>\n",
       "      <td>0.45</td>\n",
       "      <td>355.0</td>\n",
       "      <td>1001.0</td>\n",
       "      <td>290.0</td>\n",
       "      <td>818.0</td>\n",
       "    </tr>\n",
       "    <tr>\n",
       "      <th>5</th>\n",
       "      <td>0.0</td>\n",
       "      <td>33.12</td>\n",
       "      <td>0.037851</td>\n",
       "      <td>0.0</td>\n",
       "      <td>0.000012</td>\n",
       "      <td>0.023</td>\n",
       "      <td>0.10</td>\n",
       "      <td>0.45</td>\n",
       "      <td>346.0</td>\n",
       "      <td>886.0</td>\n",
       "      <td>283.0</td>\n",
       "      <td>725.0</td>\n",
       "    </tr>\n",
       "    <tr>\n",
       "      <th>6</th>\n",
       "      <td>0.0</td>\n",
       "      <td>33.12</td>\n",
       "      <td>0.037851</td>\n",
       "      <td>0.0</td>\n",
       "      <td>0.000012</td>\n",
       "      <td>0.023</td>\n",
       "      <td>1.00</td>\n",
       "      <td>0.30</td>\n",
       "      <td>323.0</td>\n",
       "      <td>362.0</td>\n",
       "      <td>138.0</td>\n",
       "      <td>155.0</td>\n",
       "    </tr>\n",
       "    <tr>\n",
       "      <th>7</th>\n",
       "      <td>0.0</td>\n",
       "      <td>33.12</td>\n",
       "      <td>0.037851</td>\n",
       "      <td>0.0</td>\n",
       "      <td>0.000012</td>\n",
       "      <td>0.023</td>\n",
       "      <td>1.50</td>\n",
       "      <td>0.45</td>\n",
       "      <td>203.0</td>\n",
       "      <td>148.0</td>\n",
       "      <td>166.0</td>\n",
       "      <td>121.0</td>\n",
       "    </tr>\n",
       "    <tr>\n",
       "      <th>8</th>\n",
       "      <td>0.0</td>\n",
       "      <td>33.12</td>\n",
       "      <td>0.037851</td>\n",
       "      <td>0.0</td>\n",
       "      <td>0.000012</td>\n",
       "      <td>0.023</td>\n",
       "      <td>2.00</td>\n",
       "      <td>0.20</td>\n",
       "      <td>303.0</td>\n",
       "      <td>232.0</td>\n",
       "      <td>76.0</td>\n",
       "      <td>58.0</td>\n",
       "    </tr>\n",
       "  </tbody>\n",
       "</table>\n",
       "</div>"
      ],
      "text/plain": [
       "    xi   beta     gamma  kappa         b     mu  delta  h_target  ws_init  \\\n",
       "0  0.0  33.12  0.037851    0.0  0.000012  0.023  -5.00      0.10    639.0   \n",
       "1  0.0  33.12  0.037851    0.0  0.000012  0.023  -1.00      0.30    497.0   \n",
       "2  0.0  33.12  0.037851    0.0  0.000012  0.023  -0.10      0.45    367.0   \n",
       "3  0.0  33.12  0.037851    0.0  0.000012  0.023  -0.01      0.45    357.0   \n",
       "4  0.0  33.12  0.037851    0.0  0.000012  0.023   0.01      0.45    355.0   \n",
       "5  0.0  33.12  0.037851    0.0  0.000012  0.023   0.10      0.45    346.0   \n",
       "6  0.0  33.12  0.037851    0.0  0.000012  0.023   1.00      0.30    323.0   \n",
       "7  0.0  33.12  0.037851    0.0  0.000012  0.023   1.50      0.45    203.0   \n",
       "8  0.0  33.12  0.037851    0.0  0.000012  0.023   2.00      0.20    303.0   \n",
       "\n",
       "   wf_init  ms_init  mf_init  \n",
       "0   2749.0     71.0    306.0  \n",
       "1   2137.0    213.0    917.0  \n",
       "2   1169.0    299.0    954.0  \n",
       "3   1029.0    292.0    843.0  \n",
       "4   1001.0    290.0    818.0  \n",
       "5    886.0    283.0    725.0  \n",
       "6    362.0    138.0    155.0  \n",
       "7    148.0    166.0    121.0  \n",
       "8    232.0     76.0     58.0  "
      ]
     },
     "execution_count": 15,
     "metadata": {},
     "output_type": "execute_result"
    }
   ],
   "source": [
    "analysis.df_params"
   ]
  },
  {
   "cell_type": "code",
   "execution_count": 16,
   "metadata": {},
   "outputs": [
    {
     "data": {
      "image/png": "[encoded data removed]",
      "text/plain": [
       "<Figure size 360x360 with 1 Axes>"
      ]
     },
     "metadata": {},
     "output_type": "display_data"
    }
   ],
   "source": [
    "leg_list = [r\"$\\delta={:.1f}$\".format(analysis.df_params['delta'][i]) for i in range(9)]\n",
    "analysis.plot_vh_param_sw(range(9), leg_list,figname=\"delta_sw_lfc\",sparsify_data=True)"
   ]
  }
 ],
 "metadata": {
  "kernelspec": {
   "display_name": "Python 2",
   "language": "python",
   "name": "python2"
  },
  "language_info": {
   "codemirror_mode": {
    "name": "ipython",
    "version": 2
   },
   "file_extension": ".py",
   "mimetype": "text/x-python",
   "name": "python",
   "nbconvert_exporter": "python",
   "pygments_lexer": "ipython2",
   "version": "2.7.14"
  },
  "widgets": {
   "state": {
    "1500c22c7d144ecd84d3c6fc8e372296": {
     "views": [
      {
       "cell_index": 19
      }
     ]
    },
    "21d5de0dbb814565bfc3cfe04b8f050a": {
     "views": [
      {
       "cell_index": 23
      }
     ]
    },
    "2543a22cd60e4aa8be305f4e5c285fd9": {
     "views": [
      {
       "cell_index": 26
      }
     ]
    },
    "6a2ac46ac9fe485a9330a0cbba1668d2": {
     "views": [
      {
       "cell_index": 28
      }
     ]
    }
   },
   "version": "1.2.0"
  }
 },
 "nbformat": 4,
 "nbformat_minor": 2
}
