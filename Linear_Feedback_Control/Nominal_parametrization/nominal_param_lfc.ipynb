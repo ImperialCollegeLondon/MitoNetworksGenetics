{
 "cells": [
  {
   "cell_type": "markdown",
   "metadata": {},
   "source": [
    "# Find a nominal parametrization of the linear feedback control\n"
   ]
  },
  {
   "cell_type": "code",
   "execution_count": 1,
   "metadata": {},
   "outputs": [],
   "source": [
    "import numpy as np\n",
    "import sing_birth_fus_utils_ap as utls\n",
    "from mitonetworks.utls import reset_plots\n",
    "\n",
    "%reload_ext autoreload\n",
    "%autoreload 2"
   ]
  },
  {
   "cell_type": "markdown",
   "metadata": {},
   "source": [
    "Get a parametrization motivated by literature"
   ]
  },
  {
   "cell_type": "code",
   "execution_count": 2,
   "metadata": {},
   "outputs": [
    {
     "data": {
      "text/plain": [
       "(33.120000000000005, 0.03785142857142858)"
      ]
     },
     "execution_count": 2,
     "metadata": {},
     "output_type": "execute_result"
    }
   ],
   "source": [
    "average_rate_fusion_per_mito = 0.023 # per min, Cagalinec13\n",
    "beta = average_rate_fusion_per_mito * 24 * 60 # per day\n",
    "nsp = 250 # \"copy number per species\"\n",
    "gamma = beta * 2.0 * nsp/(7*nsp*nsp)\n",
    "beta, gamma"
   ]
  },
  {
   "cell_type": "code",
   "execution_count": 3,
   "metadata": {},
   "outputs": [],
   "source": [
    "mu=0.023 # Gunawan15"
   ]
  },
  {
   "cell_type": "code",
   "execution_count": 4,
   "metadata": {},
   "outputs": [],
   "source": [
    "n_target = 1000.0"
   ]
  },
  {
   "cell_type": "code",
   "execution_count": 5,
   "metadata": {},
   "outputs": [],
   "source": [
    "xi = 0.00\n",
    "delta = 1.0"
   ]
  },
  {
   "cell_type": "markdown",
   "metadata": {},
   "source": [
    "For a range of $b$ find the $\\kappa$ which has a copy number of `n_target` and compute the CV"
   ]
  },
  {
   "cell_type": "code",
   "execution_count": 6,
   "metadata": {},
   "outputs": [],
   "source": [
    "b_space = np.logspace(np.log10(1e-7),np.log10(1e-4),1001)"
   ]
  },
  {
   "cell_type": "code",
   "execution_count": 7,
   "metadata": {},
   "outputs": [
    {
     "name": "stdout",
     "output_type": "stream",
     "text": [
      "0\n",
      "100\n",
      "200\n",
      "300\n",
      "400\n",
      "500\n",
      "600\n",
      "700\n",
      "800\n",
      "900\n",
      "1000\n"
     ]
    }
   ],
   "source": [
    "b_kappa_arr = []\n",
    "kappa_space = n_target*10**np.linspace(-2,2,10000)\n",
    "for i, b in enumerate(b_space):\n",
    "    if i%100==0: print(i)    \n",
    "    ms = 250.0 # arbitrary when delta = 1.0\n",
    "    res = utls.residual_n_manual(n_target, ms, xi, gamma, beta, kappa_space, b, mu, delta,n_target)\n",
    "    if np.min(res) < 0: # if the minimum residual is acceptable, i.e. we found a good kappa   \n",
    "        kappa_opt = kappa_space[np.argmin(res)]\n",
    "        b_kappa_arr.append([b, kappa_opt])\n",
    "b_kappa_arr = np.array(b_kappa_arr)"
   ]
  },
  {
   "cell_type": "code",
   "execution_count": 8,
   "metadata": {},
   "outputs": [
    {
     "data": {
      "text/plain": [
       "(1.2416523075924095e-05, 0.0001)"
      ]
     },
     "execution_count": 8,
     "metadata": {},
     "output_type": "execute_result"
    }
   ],
   "source": [
    "b = min(b_kappa_arr[:,0])\n",
    "b , max(b_kappa_arr[:,0])"
   ]
  },
  {
   "cell_type": "markdown",
   "metadata": {},
   "source": [
    "There are many values of b for which the target copy number cannot be reached deterministically, hence there are many CVs which aren't physically realisable. Maximize CV and choose the corresponding $b$,$\\kappa$ values:"
   ]
  },
  {
   "cell_type": "code",
   "execution_count": 9,
   "metadata": {},
   "outputs": [
    {
     "data": {
      "text/plain": [
       "11.662903457629223"
      ]
     },
     "execution_count": 9,
     "metadata": {},
     "output_type": "execute_result"
    }
   ],
   "source": [
    "kappa = b_kappa_arr[np.argmin(b_kappa_arr[:,0]),1] # take corresponding kappa for smallest b\n",
    "kappa"
   ]
  },
  {
   "cell_type": "code",
   "execution_count": 10,
   "metadata": {},
   "outputs": [
    {
     "data": {
      "text/plain": [
       "1000.0081739930911"
      ]
     },
     "execution_count": 10,
     "metadata": {},
     "output_type": "execute_result"
    }
   ],
   "source": [
    "utls.get_n(250, xi, gamma, beta, kappa, b, mu, delta)"
   ]
  },
  {
   "cell_type": "code",
   "execution_count": 12,
   "metadata": {},
   "outputs": [
    {
     "data": {
      "text/plain": [
       "(33.120000000000005,\n",
       " 0.03785142857142858,\n",
       " 1.2416523075924095e-05,\n",
       " 11.662903457629223,\n",
       " 0.023,\n",
       " 0.0,\n",
       " 1.0)"
      ]
     },
     "execution_count": 12,
     "metadata": {},
     "output_type": "execute_result"
    }
   ],
   "source": [
    "beta,gamma,b,kappa,mu,xi,delta"
   ]
  }
 ],
 "metadata": {
  "kernelspec": {
   "display_name": "Python 2",
   "language": "python",
   "name": "python2"
  },
  "language_info": {
   "codemirror_mode": {
    "name": "ipython",
    "version": 2
   },
   "file_extension": ".py",
   "mimetype": "text/x-python",
   "name": "python",
   "nbconvert_exporter": "python",
   "pygments_lexer": "ipython2",
   "version": "2.7.14"
  }
 },
 "nbformat": 4,
 "nbformat_minor": 2
}
