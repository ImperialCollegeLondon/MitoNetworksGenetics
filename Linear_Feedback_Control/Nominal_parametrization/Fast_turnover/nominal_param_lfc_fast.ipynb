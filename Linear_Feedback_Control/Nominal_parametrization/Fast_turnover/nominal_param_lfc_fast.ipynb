{
 "cells": [
  {
   "cell_type": "markdown",
   "metadata": {},
   "source": [
    "# Find a nominal parametrization of the linear feedback control (fast turnover)\n"
   ]
  },
  {
   "cell_type": "code",
   "execution_count": 38,
   "metadata": {},
   "outputs": [],
   "source": [
    "import numpy as np\n",
    "import sing_birth_fus_utils_ap as utls\n",
    "from mitonetworks.utls import reset_plots\n",
    "\n",
    "%reload_ext autoreload\n",
    "%autoreload 2"
   ]
  },
  {
   "cell_type": "markdown",
   "metadata": {},
   "source": [
    "Get a parametrization motivated by literature"
   ]
  },
  {
   "cell_type": "code",
   "execution_count": 39,
   "metadata": {},
   "outputs": [
    {
     "data": {
      "text/plain": [
       "(33.120000000000005, 0.03785142857142858)"
      ]
     },
     "execution_count": 39,
     "metadata": {},
     "output_type": "execute_result"
    }
   ],
   "source": [
    "average_rate_fusion_per_mito = 0.023 # per min, Cagalinec13\n",
    "beta = average_rate_fusion_per_mito * 24 * 60 # per day\n",
    "nsp = 250 # \"copy number per species\"\n",
    "gamma = beta * 2.0 * nsp/(7*nsp*nsp)\n",
    "beta, gamma"
   ]
  },
  {
   "cell_type": "code",
   "execution_count": 40,
   "metadata": {},
   "outputs": [],
   "source": [
    "mu= np.log(2)/2.0 "
   ]
  },
  {
   "cell_type": "code",
   "execution_count": 41,
   "metadata": {},
   "outputs": [],
   "source": [
    "n_target = 1000.0"
   ]
  },
  {
   "cell_type": "code",
   "execution_count": 42,
   "metadata": {},
   "outputs": [],
   "source": [
    "xi = 0.00\n",
    "delta = 1.0"
   ]
  },
  {
   "cell_type": "markdown",
   "metadata": {},
   "source": [
    "For a range of $b$ find the $\\kappa$ which has a copy number of `n_target` and compute the CV"
   ]
  },
  {
   "cell_type": "code",
   "execution_count": 43,
   "metadata": {},
   "outputs": [],
   "source": [
    "b_space = np.logspace(np.log10(1e-5),np.log10(1e-1),1001)"
   ]
  },
  {
   "cell_type": "code",
   "execution_count": 44,
   "metadata": {},
   "outputs": [
    {
     "name": "stdout",
     "output_type": "stream",
     "text": [
      "0\n",
      "100\n",
      "200\n",
      "300\n",
      "400\n",
      "500\n",
      "600\n",
      "700\n",
      "800\n",
      "900\n",
      "1000\n"
     ]
    }
   ],
   "source": [
    "b_kappa_arr = []\n",
    "kappa_space = n_target*10**np.linspace(-1,3,10000)\n",
    "\n",
    "minimum_residuals = []\n",
    "\n",
    "for i, b in enumerate(b_space):\n",
    "    if i%100==0: print(i)    \n",
    "    ms = 250.0 # arbitrary when delta = 1.0\n",
    "    res = utls.residual_n_manual(n_target, ms, xi, gamma, beta, kappa_space, b, mu, delta,n_target)\n",
    "    if np.min(res) < 2: # if the minimum residual is acceptable, i.e. we found a good kappa   \n",
    "        kappa_opt = kappa_space[np.argmin(res)]\n",
    "        b_kappa_arr.append([b, kappa_opt])\n",
    "    else:\n",
    "        minimum_residuals.append(np.min(res))\n",
    "b_kappa_arr = np.array(b_kappa_arr)"
   ]
  },
  {
   "cell_type": "code",
   "execution_count": 45,
   "metadata": {},
   "outputs": [
    {
     "data": {
      "text/plain": [
       "array([[2.07014135e-04, 1.01578239e+02],\n",
       "       [2.08929613e-04, 1.09851017e+02],\n",
       "       [2.10862815e-04, 1.17925346e+02],\n",
       "       ...,\n",
       "       [9.81747943e-02, 9.98389328e+02],\n",
       "       [9.90831945e-02, 9.98389328e+02],\n",
       "       [1.00000000e-01, 9.98389328e+02]])"
      ]
     },
     "execution_count": 45,
     "metadata": {},
     "output_type": "execute_result"
    }
   ],
   "source": [
    "b_kappa_arr"
   ]
  },
  {
   "cell_type": "code",
   "execution_count": 46,
   "metadata": {},
   "outputs": [
    {
     "data": {
      "text/plain": [
       "(0.00020701413487910414, 0.1)"
      ]
     },
     "execution_count": 46,
     "metadata": {},
     "output_type": "execute_result"
    }
   ],
   "source": [
    "b = min(b_kappa_arr[:,0])\n",
    "b , max(b_kappa_arr[:,0])"
   ]
  },
  {
   "cell_type": "markdown",
   "metadata": {},
   "source": [
    "There are many values of b for which the target copy number cannot be reached deterministically, hence there are many CVs which aren't physically realisable. Maximize CV and choose the corresponding $b$,$\\kappa$ values:"
   ]
  },
  {
   "cell_type": "code",
   "execution_count": 47,
   "metadata": {},
   "outputs": [
    {
     "data": {
      "text/plain": [
       "101.57823914239846"
      ]
     },
     "execution_count": 47,
     "metadata": {},
     "output_type": "execute_result"
    }
   ],
   "source": [
    "kappa = b_kappa_arr[np.argmin(b_kappa_arr[:,0]),1] # take corresponding kappa for smallest b\n",
    "kappa"
   ]
  },
  {
   "cell_type": "code",
   "execution_count": 59,
   "metadata": {},
   "outputs": [
    {
     "data": {
      "text/plain": [
       "1000.0065035345262"
      ]
     },
     "execution_count": 59,
     "metadata": {},
     "output_type": "execute_result"
    }
   ],
   "source": [
    "utls.get_n(250, xi, gamma, beta, kappa, b, mu, delta)"
   ]
  },
  {
   "cell_type": "code",
   "execution_count": 49,
   "metadata": {},
   "outputs": [
    {
     "data": {
      "text/plain": [
       "(33.120000000000005,\n",
       " 0.03785142857142858,\n",
       " 0.00020701413487910414,\n",
       " 101.57823914239846,\n",
       " 0.34657359027997264,\n",
       " 0.0,\n",
       " 1.0)"
      ]
     },
     "execution_count": 49,
     "metadata": {},
     "output_type": "execute_result"
    }
   ],
   "source": [
    "beta,gamma,b,kappa,mu,xi,delta"
   ]
  },
  {
   "cell_type": "markdown",
   "metadata": {},
   "source": [
    "Find point on SS line which corresponds to $h=0.3$"
   ]
  },
  {
   "cell_type": "code",
   "execution_count": 50,
   "metadata": {},
   "outputs": [],
   "source": [
    "params = {\n",
    "'beta':beta,\n",
    "'gamma':gamma,\n",
    "'b':b,\n",
    "'kappa':kappa,\n",
    "'mu':mu,\n",
    "'xi':xi,\n",
    "'delta':delta\n",
    "}"
   ]
  },
  {
   "cell_type": "code",
   "execution_count": 51,
   "metadata": {},
   "outputs": [],
   "source": [
    "import mitonetworks.stoch as mts\n",
    "import mitonetworks.det as mtd"
   ]
  },
  {
   "cell_type": "code",
   "execution_count": 52,
   "metadata": {},
   "outputs": [],
   "source": [
    "lfc = mts.SubmitHPCSoluableFeedbackControl(ss_definition=mtd.E_linear_feedback_control_ss, nominal_params=params,hpc_jobname=None,\n",
    "                                           hpc_workdir=None,c_filename=None,c_file_param_ordering_convention=None)"
   ]
  },
  {
   "cell_type": "code",
   "execution_count": 53,
   "metadata": {},
   "outputs": [],
   "source": [
    "ics, h_param, ss_flag = lfc.find_ss_h_target(params)"
   ]
  },
  {
   "cell_type": "code",
   "execution_count": 54,
   "metadata": {},
   "outputs": [
    {
     "data": {
      "text/plain": [
       "array([324, 376, 139, 161])"
      ]
     },
     "execution_count": 54,
     "metadata": {},
     "output_type": "execute_result"
    }
   ],
   "source": [
    "ics"
   ]
  },
  {
   "cell_type": "code",
   "execution_count": 55,
   "metadata": {},
   "outputs": [
    {
     "data": {
      "text/plain": [
       "['ws', 'wf', 'ms', 'mf']"
      ]
     },
     "execution_count": 55,
     "metadata": {},
     "output_type": "execute_result"
    }
   ],
   "source": [
    "lfc.param_convention"
   ]
  },
  {
   "cell_type": "code",
   "execution_count": 56,
   "metadata": {},
   "outputs": [
    {
     "data": {
      "text/plain": [
       "0.29998665474793845"
      ]
     },
     "execution_count": 56,
     "metadata": {},
     "output_type": "execute_result"
    }
   ],
   "source": [
    "h_param"
   ]
  },
  {
   "cell_type": "code",
   "execution_count": 62,
   "metadata": {},
   "outputs": [
    {
     "name": "stdout",
     "output_type": "stream",
     "text": [
      "beta = 33.120000000000005;\n",
      "gamma = 0.03785142857142858;\n",
      "b = 0.00020701413487910414;\n",
      "kappa = 101.57823914239846;\n",
      "mu = 0.34657359027997264;\n",
      "xi = 0.0;\n",
      "delta = 1.0;\n"
     ]
    }
   ],
   "source": [
    "for i in params:\n",
    "    print(i+' = {};'.format(params[i]))"
   ]
  },
  {
   "cell_type": "code",
   "execution_count": null,
   "metadata": {},
   "outputs": [],
   "source": []
  }
 ],
 "metadata": {
  "kernelspec": {
   "display_name": "Python 3",
   "language": "python",
   "name": "python3"
  },
  "language_info": {
   "codemirror_mode": {
    "name": "ipython",
    "version": 3
   },
   "file_extension": ".py",
   "mimetype": "text/x-python",
   "name": "python",
   "nbconvert_exporter": "python",
   "pygments_lexer": "ipython3",
   "version": "3.7.3"
  }
 },
 "nbformat": 4,
 "nbformat_minor": 2
}
