{
 "cells": [
  {
   "cell_type": "markdown",
   "metadata": {},
   "source": [
    "# Analyse stochastic simulations of feedback controls\n",
    "\n",
    "# Controls A, B, C, F, G, X, Y, Z\n",
    "\n",
    "Author: Juvid Aryaman"
   ]
  },
  {
   "cell_type": "code",
   "execution_count": 1,
   "metadata": {},
   "outputs": [],
   "source": [
    "import mitonetworks.det as mtd\n",
    "import mitonetworks.stoch as mts\n",
    "import pandas as pd\n",
    "import numpy as np\n",
    "import matplotlib.pyplot as plt\n",
    "\n",
    "import warnings"
   ]
  },
  {
   "cell_type": "code",
   "execution_count": 2,
   "metadata": {},
   "outputs": [],
   "source": [
    "warnings.simplefilter(\"ignore\", UserWarning) # when generating svg's get lots of useless UserWarnings, so suppress them"
   ]
  },
  {
   "cell_type": "code",
   "execution_count": 3,
   "metadata": {},
   "outputs": [],
   "source": [
    "%reload_ext autoreload\n",
    "%autoreload 2\n",
    "%matplotlib inline"
   ]
  },
  {
   "cell_type": "code",
   "execution_count": 4,
   "metadata": {},
   "outputs": [],
   "source": [
    "mts.reset_plots()\n",
    "fontsize = 30\n",
    "font = {'size' : fontsize}\n",
    "plt.rcParams.update({'axes.labelsize': fontsize})"
   ]
  },
  {
   "cell_type": "code",
   "execution_count": 5,
   "metadata": {},
   "outputs": [],
   "source": [
    "ctrl_dirs = ['A_relaxed_rep',\n",
    "'B_diff_ctrl',\n",
    "'C_Ratiometric_control_target',\n",
    "'F_Production_indep_wt',\n",
    "'G_Ratiometric_deg',\n",
    "'Y_linear_feedback_deg',\n",
    "'Z_diff_deg',\n",
    "'X_gen_linear_feedback_ctrl']"
   ]
  },
  {
   "cell_type": "code",
   "execution_count": 6,
   "metadata": {},
   "outputs": [],
   "source": [
    "do_all = False # make an extended set of analysis figures"
   ]
  },
  {
   "cell_type": "code",
   "execution_count": 7,
   "metadata": {},
   "outputs": [],
   "source": [
    "force_remake_gradients = True"
   ]
  },
  {
   "cell_type": "code",
   "execution_count": 8,
   "metadata": {
    "scrolled": false
   },
   "outputs": [
    {
     "name": "stdout",
     "output_type": "stream",
     "text": [
      "A_relaxed_rep\n",
      "B_diff_ctrl\n",
      "C_Ratiometric_control_target\n",
      "F_Production_indep_wt\n",
      "G_Ratiometric_deg\n",
      "Y_linear_feedback_deg\n",
      "Z_diff_deg\n",
      "X_gen_linear_feedback_ctrl\n"
     ]
    },
    {
     "data": {
      "image/png": "[encoded data removed]",
      "text/plain": [
       "<Figure size 648x648 with 2 Axes>"
      ]
     },
     "metadata": {},
     "output_type": "display_data"
    }
   ],
   "source": [
    "for ctrl_dir in ctrl_dirs:\n",
    "    print(ctrl_dir)\n",
    "    if ctrl_dir in ['A_relaxed_rep','X_gen_linear_feedback_ctrl']:\n",
    "        istransposed = True # a workaround for not having used my class structure in making this data\n",
    "    else:\n",
    "        istransposed = False\n",
    "        \n",
    "    if ctrl_dir in ['Y_linear_feedback_deg','Z_diff_deg','G_Ratiometric_deg']: # control is in degradation rate\n",
    "        ansatz_is_ajhg = True\n",
    "    else:\n",
    "        ansatz_is_ajhg = False # control is in replication rate\n",
    "    analysis = mts.AnalyseDataFeedbackControl(dir_df_params = '../{}/param_sweep_vals.csv'.format(ctrl_dir),\n",
    "        dir_data = '../{}/Data/'.format(ctrl_dir), ctrl_name = ctrl_dir,  istransposed=istransposed, \n",
    "        out_dir='./{}'.format(ctrl_dir), ansatz_is_ajhg = ansatz_is_ajhg, plotextensions=['png']\n",
    "    )\n",
    "    \n",
    "    if force_remake_gradients:\n",
    "        analysis.make_gradients()\n",
    "        analysis.compute_errors()\n",
    "    else:\n",
    "        try:\n",
    "            analysis.compute_errors()\n",
    "        except IOError:        \n",
    "            analysis.make_gradients()\n",
    "            analysis.compute_errors()\n",
    "    \n",
    "    analysis.plotextensions = ['svg']\n",
    "    analysis.make_summary_matrices(t_eval=500.0);\n",
    "    if ansatz_is_ajhg:\n",
    "        analysis.make_heatmap(matrix=analysis.error_ansatz_beta_gamma, vmin=np.log10(0.05), \n",
    "                          zlabel='Log10 relative error AJHG', figname='ansatz_err_net_sweep');\n",
    "    else:\n",
    "        analysis.make_heatmap(matrix=analysis.error_ansatz_beta_gamma, vmin=np.log10(0.05), \n",
    "                          zlabel='Log10 relative error ansatz', figname='ansatz_err_net_sweep');\n",
    "    if ctrl_dir in ['F_Production_indep_wt','G_Ratiometric_deg','X_gen_linear_feedback_ctrl']:\n",
    "            analysis.make_heatmap(1.-analysis.p_h_fix_0_array, zlabel=\"$P(h=0)$\", figname='prob_fx_0'); \n",
    "    analysis.plotextensions = ['png'] \n",
    "\n",
    "    \n",
    "    if do_all: \n",
    "        analysis.make_summary_matrices(t_eval=500.0);\n",
    "        analysis.make_heatmap(np.log10(analysis.vn_array), zlabel=r\"$\\log_{10}(\\mathbb{V}(n))$\", figname='var_n');\n",
    "        \n",
    "        \n",
    "            \n",
    "        analysis.make_heatmap(1.-analysis.p_h_fix_1_array, zlabel=\"$P(h=1)$\", figname='prob_fx_1', vmin=-0.001);\n",
    "        analysis.make_heatmap(analysis.mfs_array, zlabel=\"$\\mathbb{E}(f_s)$\", figname='mean_fs');\n",
    "        analysis.make_heatmap(analysis.vh_array, zlabel=\"$\\mathbb{V}(h)'$\", figname='het_grad');\n",
    "        analysis.make_heatmap(analysis.count_array, zlabel=\"Counts\");\n",
    "        analysis.make_heatmap(analysis.mn_array, zlabel=\"$\\mathbb{E}(n)$\", figname='copy_number');\n",
    "        analysis.make_heatmap(analysis.eh_array, zlabel=\"$\\mathbb{E}(h)$\", figname='mean_h');\n",
    "        \n",
    "        \n",
    "        min_idx, max_idx = analysis.df_params[~np.isnan(analysis.df_params['ws_init'])].index[[0,-1]]        \n",
    "        analysis.plot_h_n_t(min_idx, figname='traj');\n",
    "        analysis.plot_h_n_t(max_idx,figname='traj');\n",
    "\n",
    "    "
   ]
  },
  {
   "cell_type": "code",
   "execution_count": null,
   "metadata": {},
   "outputs": [],
   "source": []
  }
 ],
 "metadata": {
  "kernelspec": {
   "display_name": "Python 2",
   "language": "python",
   "name": "python2"
  },
  "language_info": {
   "codemirror_mode": {
    "name": "ipython",
    "version": 2
   },
   "file_extension": ".py",
   "mimetype": "text/x-python",
   "name": "python",
   "nbconvert_exporter": "python",
   "pygments_lexer": "ipython2",
   "version": "2.7.14"
  },
  "widgets": {
   "state": {
    "ce9ab77916ab485ebe64c6617c775f3f": {
     "views": [
      {
       "cell_index": 8
      }
     ]
    }
   },
   "version": "1.2.0"
  }
 },
 "nbformat": 4,
 "nbformat_minor": 2
}
